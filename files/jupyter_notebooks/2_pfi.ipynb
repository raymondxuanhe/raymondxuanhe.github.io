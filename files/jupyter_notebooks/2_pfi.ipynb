{
 "cells": [
  {
   "cell_type": "markdown",
   "id": "48ac3842-ee59-497e-a7a9-23460332023e",
   "metadata": {},
   "source": [
    "# Introduction to policy-function iteration\n",
    "\n",
    "In the previous notebook, I covered value function iteration, probably the most popular algorithm for finding the global solution to problems in macroeconomics and finance. Its popularity is due to two important factors:\n",
    "1. Robustness/stability - VFI is is the most robust algorithm for finding global solutions. As long as Blackwell's sufficiency conditions are satisfied, then the Bellman operator is a contraction mapping, so in principle, any initial guess of the value function will eventually converge to the true and unique value function if you apply the Bellman operator enough times. Even if your model is such that Blackwell's sufficiency conditions are not met and convergence is not guaranteed, iterating on the Bellman operator is still usually the stablest procedure, since it requires the least amount of information on the problem (I will expand on this later).\n",
    "2. Simplicity - of all the algorithms, VFI has the lowest programming overhead. I.e. the time it takes to translate your mathematical problem into the computer is the lowest. Moreover, VFI is also the only algorithm which can work with pure discretization and no interpolation whatsoever. \n",
    "\n",
    "However, VFI has a major drawback: it is incredibly slow. Iterating on the Bellman operator usually means you get the approximate *shape* of the true value function fairly quickly, but getting the value function correct in the *levels* can be require many (hundreds) of iterations, especially if your discount factor is close to 1. Moreover, each iteration is relatively slow - since optimizing a function is usually a very computationally costly step and can require many function evaluations within each step. \n",
    "\n",
    "Fortunately, there are two other ways of solving recursive problems and they are both significantly faster than VFI. They are Coleman time-iteration, and the endogenous grid method, and they both involve iterating the policy function on the Euler equation instead of the value function on the Bellman equation.\n",
    "\n",
    "\n",
    "\n",
    "\n",
    "\n",
    "## How do I know that my solution is correct?\n",
    "One method of knowing whether our solution is correct or not is to take\n",
    "\n",
    "$$\n",
    "u_c(c) = \\beta f_k(k^\\prime)u'(c^\\prime)\n",
    "$$\n",
    "where $c = f(k) - k^\\prime$ and $c^\\prime = f(k^\\prime) - g(k^\\prime)$\n",
    "\n"
   ]
  }
 ],
 "metadata": {
  "kernelspec": {
   "display_name": "Julia 1.11.5",
   "language": "julia",
   "name": "julia-1.11"
  },
  "language_info": {
   "file_extension": ".jl",
   "mimetype": "application/julia",
   "name": "julia",
   "version": "1.11.5"
  }
 },
 "nbformat": 4,
 "nbformat_minor": 5
}
