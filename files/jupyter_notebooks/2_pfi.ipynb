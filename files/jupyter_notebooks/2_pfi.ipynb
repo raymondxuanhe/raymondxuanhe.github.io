{
 "cells": [
  {
   "cell_type": "markdown",
   "id": "48ac3842-ee59-497e-a7a9-23460332023e",
   "metadata": {},
   "source": [
    "# Policy function iteration (PFI) - Coleman time iteration\n",
    "\n",
    "In the previous notebook, I covered VFI, probably the most popular algorithm for finding the global solution to problems in macroeconomics and finance. Its popularity is due to two important factors:\n",
    "1. **Robustness/stability** - VFI is is the most robust algorithm for finding global solutions. As long as Blackwell's sufficiency conditions are satisfied, then the Bellman operator is a contraction mapping, so in principle, any initial guess of the value function will eventually converge to the true and unique value function if you apply the Bellman operator enough times. Even if your model is such that Blackwell's sufficiency conditions are not met and convergence is not guaranteed, iterating on the Bellman operator is still usually the stablest procedure, since it requires the least amount of information on the problem (I will expand on this later).\n",
    "2. **Simplicity** - of all the algorithms, VFI has the lowest programming overhead. I.e. the time it takes to translate your mathematical problem into the computer is the lowest. Moreover, VFI is also the only algorithm which can work with pure discretization and no interpolation whatsoever. \n",
    "\n",
    "Unfortunately, VFI has a major drawback: it is incredibly slow. This may seem strange since VFI solved the problem in about 0.6 seconds (actually, more accurate benchmarking shows it was about 0.424 seconds). However, it is important to compare **relative** time instead of **absolute** time when benchmarking, and I will show you algorithms that significantly faster. In this simple context, a speed improvement of an order of magnitude is still only a few miliseconds in absolute terms. Yet, as your model increases in size, this very will quickly balloon to minutes or entire hours saved - especially if you are trying to do some form of formal structural estimation.\n",
    "\n",
    "Iterating on the Bellman operator usually means you get the approximate *shape* of the true value function fairly quickly, but getting the value function correct in the *levels* can require many (hundreds) of iterations, especially if your discount factor is close to 1. Moreover, each iteration is relatively slow - since optimizing a function is usually a very computationally costly step and can require many function evaluations within each step.\n",
    "\n",
    "Fortunately, there are two other ways of solving recursive problems and they are both significantly faster than VFI. They are Coleman time-iteration, and the endogenous grid method, and they both involve iterating the **policy function** on the **Euler equation** instead of the **value function** on the **Bellman equation**.\n",
    "\n",
    "# 0. Introduction\n",
    "At the end of the notebook on VFI, I showed how the Euler equation can be used to assess a numerical policy function's accuracy. Fortunately, it turns out that the Euler equation can also be used to **find** the policy function itself! The main conceptual difference between PFI and VFI is that while the latter involves iterating guesses of the value function on the Bellman equation, PFI requires iterating guesses of the policy function on the Euler equation.\n",
    "\n",
    "The iterative procedure is the following:\n",
    "1. Guess a policy function for next period's capital: $k^\\prime = g_0(k)$\n",
    "2. On your grid of $k$'s, construct the Euler equation:\n",
    "$$\n",
    "u_c(f(k_i) - k^\\prime_i) = \\beta f_k(k^\\prime_i)u_c(f(k^\\prime_i) - g_0(k^\\prime_i))\n",
    "$$\n",
    "3. For each $k_i$, use a non-linear root-finder to find the $k^\\prime_i$ that satisfies the Euler equation.\n",
    "4. There's now a new mapping between $k$ and $k^\\prime$! Interpolate to create $g_1(k)$.\n",
    "5. Compute the distance between $g_1(k)$ and $g_0(k)$. If the norm is less than your tolerance, stop. If not, update your guess of the policy function with $g_1(k)$ and repeat from Step 2 until convergence."
   ]
  },
  {
   "cell_type": "markdown",
   "id": "195900ea",
   "metadata": {},
   "source": [
    "# 1. Initialization\n",
    "Fortunately, the initialization step is almost identical to that of VFI. The only differences are that firstly, instead of optimization, we use a package for root-finding (Roots.jl) instead and secondly, we need to define two additional functions to facilitate constructing the Euler equation: the marginal utility function and the marginal production function.\n",
    "\n",
    "However, I will also go a step further and explain how to write code in a way that is more optimized for Julia and useful for large-scale projects."
   ]
  },
  {
   "cell_type": "code",
   "execution_count": 1,
   "id": "5373771b",
   "metadata": {},
   "outputs": [
    {
     "data": {
      "text/plain": [
       "Params"
      ]
     },
     "metadata": {},
     "output_type": "display_data"
    }
   ],
   "source": [
    "using Interpolations, LinearAlgebra, Roots, Plots\n",
    "using Parameters\n",
    "\n",
    "@with_kw struct Params{F1, F2, F3, F4}\n",
    "    #Economic parameters\n",
    "    β::Float64  # Discount factor\n",
    "    α::Float64   # Capital share in production\n",
    "\n",
    "    #Grid\n",
    "    kmin::Float64\n",
    "    kmax::Float64\n",
    "    nk::Int64\n",
    "    kgrid::AbstractVector{<:Real}\n",
    "\n",
    "    #Numerical parameters\n",
    "    tol::Float64\n",
    "    max_iter::Int64\n",
    "    \n",
    "    #Functions\n",
    "    u::F1\n",
    "    f::F2\n",
    "    u_c::F3\n",
    "    f_k::F4\n",
    "end"
   ]
  },
  {
   "cell_type": "markdown",
   "id": "2931056f",
   "metadata": {},
   "source": [
    "### 1.1. What is a struct?\n",
    "\n",
    "In Julia, a struct is a custom data type, where you can create your own customizable object with named fields. For our purposes, it is a single data structure that houses all the objects of interest (e.g. the parameters, fuctions, etc.). I.e. rather than declaring 10 objects sepately, we are now defining an object (called Params) which allows us to load all 10 objects into the compiler simultaneously.\n",
    "\n",
    "### 1.2 What are the things after the two colons?\n",
    "\n",
    "In most programming languages, every object has a type, which is a classification system that defines what kind of data a value represents. For instance, kmin is of type Float64, meaning that it is a floating point number represented in 64 bits, where as nk is an integer, i.e. the number of gridpoints in the capital grid can only be integer valued. Types also dictate type of operations can be run on it. If an object is of type Vector{Float64}, i.e. it's a vector of Float64 numbers, then the compiler will instantly know to throw an error message if you try to take the exponential of that object.\n",
    "\n",
    "In many languages, declaring the object's type is either outright mandatory or helps with performance. In Julia, the first is outright not true, while the second is only *generally* untrue - Julia's compiler is very clever about inferring an object's type in most scenarios, so explicitly labelling them won't help the compiler very much (which is why I did not bother declaring them in the previous notebook). In structs (which are a type in of itself), it is often much less obvious what the individual objects within (also called *fields*) are. \n",
    "\n",
    "Here, the struct Params has the object $u$, which is a function. Without this explicit declaration, $u$ can very well be another number, vector, Boolean, etc. and Julia's compiler will need to run through all these different possible scenarios, slowing down the code. When inside structs, this labelling not only helps with performance via improved memory management and eliminating type uncertainty, but also improves your code's readability."
   ]
  },
  {
   "cell_type": "markdown",
   "id": "4f8e183c",
   "metadata": {},
   "source": [
    "Now that we have initialized our struct Params (the convention in Julia is to name all structs with a capital letter), we can now start populating them with actual values, which is done with the function below. For consistency's sake, I have kept everything the same as the notebook on VFI. "
   ]
  },
  {
   "cell_type": "code",
   "execution_count": 2,
   "id": "d8f7f61d",
   "metadata": {},
   "outputs": [
    {
     "data": {
      "text/plain": [
       "make_params (generic function with 1 method)"
      ]
     },
     "metadata": {},
     "output_type": "display_data"
    }
   ],
   "source": [
    "function make_params(; β = 0.96, α = 0.4, kmin = 1e-3, kmax = 100.0, nk = 1_001, tol = 1e-6, max_iter = 600)\n",
    "    kgrid = range(kmin, kmax, length=nk)\n",
    "    u(c) = c ≥ 0.0 ? log(c) : -1e10\n",
    "    f(k) = k^α\n",
    "    u_c(c) = c ≥ 0.0 ? 1/c : -1e10\n",
    "    f_k(k) = α * k^(α - 1)\n",
    "    return Params(β = β, α = α, kmin = kmin, kmax = kmax, nk = nk, kgrid = kgrid, tol = tol, max_iter = max_iter, u = u, f = f, u_c = u_c, f_k = f_k)\n",
    "end"
   ]
  },
  {
   "cell_type": "markdown",
   "id": "c86a35da",
   "metadata": {},
   "source": [
    "### 1.3 What is this semicolon in the function?\n",
    "\n",
    "In Julia, there are two types of inputs (or arguments): positional and keyword. \n",
    "\n",
    "**Positional** inputs are identified by the order in which they are declared - i.e. the order they are typed in matters, but their `name' does not need to be specified. We tell Julia that an argument is positional by placing it *before* the semicolon. Consider the illustrative example below."
   ]
  },
  {
   "cell_type": "code",
   "execution_count": 3,
   "id": "d1e450d4",
   "metadata": {},
   "outputs": [
    {
     "data": {
      "text/plain": [
       "trivial (generic function with 1 method)"
      ]
     },
     "metadata": {},
     "output_type": "display_data"
    }
   ],
   "source": [
    "function trivial(x, y)\n",
    "    return x^2 + y\n",
    "end"
   ]
  },
  {
   "cell_type": "code",
   "execution_count": 4,
   "id": "fddaff41",
   "metadata": {},
   "outputs": [
    {
     "data": {
      "text/plain": [
       "5"
      ]
     },
     "metadata": {},
     "output_type": "display_data"
    }
   ],
   "source": [
    "j = 10\n",
    "k = 5"
   ]
  },
  {
   "cell_type": "code",
   "execution_count": 5,
   "id": "626ab184",
   "metadata": {},
   "outputs": [
    {
     "data": {
      "text/plain": [
       "105"
      ]
     },
     "metadata": {},
     "output_type": "display_data"
    }
   ],
   "source": [
    "trivial(j, k)"
   ]
  },
  {
   "cell_type": "code",
   "execution_count": 6,
   "id": "9b40e9d6",
   "metadata": {},
   "outputs": [
    {
     "data": {
      "text/plain": [
       "35"
      ]
     },
     "metadata": {},
     "output_type": "display_data"
    }
   ],
   "source": [
    "trivial(k, j)"
   ]
  },
  {
   "cell_type": "markdown",
   "id": "4ada54ed",
   "metadata": {},
   "source": [
    "Note that the function does not require you to specify that $x = j, y = k$ in order to compile, but the order they are declared does matter. For functions which don't require alot of inputs, memorizing the order is not too burdensome (especially with good naming conventions), and results in cleaner code.\n",
    "\n",
    "**Keyword** arguments on the otherhand do the opposite - the order is completely irrelevant, but at the cost of needing to specify the name. You can declare an input to be a keyword argument by placing it *after* the semicolon. Consider the example below:"
   ]
  },
  {
   "cell_type": "code",
   "execution_count": 7,
   "id": "c914ab02",
   "metadata": {},
   "outputs": [
    {
     "data": {
      "text/plain": [
       "trivial2 (generic function with 1 method)"
      ]
     },
     "metadata": {},
     "output_type": "display_data"
    }
   ],
   "source": [
    "function trivial2(; x, y)\n",
    "    return x^2 + y\n",
    "end"
   ]
  },
  {
   "cell_type": "code",
   "execution_count": 8,
   "id": "aac2de13",
   "metadata": {},
   "outputs": [
    {
     "ename": "MethodError",
     "evalue": "MethodError: no method matching trivial2(::Int64, ::Int64)\nThe function `trivial2` exists, but no method is defined for this combination of argument types.\n\nClosest candidates are:\n  trivial2(; x, y)\n   @ Main ~/Documents/raymondxuanhe.github.io/files/jupyter_notebooks/jl_notebook_cell_df34fa98e69747e1a8f8a730347b8e2f_X31sZmlsZQ==.jl:1\n",
     "output_type": "error",
     "traceback": [
      "MethodError: no method matching trivial2(::Int64, ::Int64)\n",
      "The function `trivial2` exists, but no method is defined for this combination of argument types.\n",
      "\n",
      "Closest candidates are:\n",
      "  trivial2(; x, y)\n",
      "   @ Main ~/Documents/raymondxuanhe.github.io/files/jupyter_notebooks/jl_notebook_cell_df34fa98e69747e1a8f8a730347b8e2f_X31sZmlsZQ==.jl:1\n",
      "\n",
      "\n",
      "Stacktrace:\n",
      " [1] top-level scope\n",
      "   @ ~/Documents/raymondxuanhe.github.io/files/jupyter_notebooks/jl_notebook_cell_df34fa98e69747e1a8f8a730347b8e2f_X32sZmlsZQ==.jl:1"
     ]
    }
   ],
   "source": [
    "trivial2(j, k)"
   ]
  },
  {
   "cell_type": "code",
   "execution_count": 9,
   "id": "ceb8fca1",
   "metadata": {},
   "outputs": [
    {
     "data": {
      "text/plain": [
       "105"
      ]
     },
     "metadata": {},
     "output_type": "display_data"
    }
   ],
   "source": [
    "trivial2(x = j, y = k)"
   ]
  },
  {
   "cell_type": "code",
   "execution_count": 10,
   "id": "539f2674",
   "metadata": {},
   "outputs": [
    {
     "data": {
      "text/plain": [
       "105"
      ]
     },
     "metadata": {},
     "output_type": "display_data"
    }
   ],
   "source": [
    "trivial2(y = k, x = j)"
   ]
  },
  {
   "cell_type": "markdown",
   "id": "c9544a53",
   "metadata": {},
   "source": [
    "Note that now, the function simply does not compile unless we specify their names in a way that conforms with how we initialized the function, but once we do so, the order does not matter. In my make_params function, I pass everything as a keyword argument because it's easier to remember what names I assign every input, than to remember the specific order of 7 inputted numbers.\n",
    "\n",
    "The last thing to remark on is that by declaring these function arguments with values, I am assigning them default values. I.e. unless I specify otherwise, $\\beta$ will be 0.96.\n",
    "\n",
    "All of this then comes together to creating the object $p$, which contains everything that the later functions will need:"
   ]
  },
  {
   "cell_type": "code",
   "execution_count": 4,
   "id": "d8b8b8dd",
   "metadata": {},
   "outputs": [
    {
     "data": {
      "text/plain": [
       "Params{var\"#u#16\", var\"#f#17\"{Float64}, var\"#u_c#18\", var\"#f_k#19\"{Float64}}\n",
       "  β: Float64 0.96\n",
       "  α: Float64 0.4\n",
       "  kmin: Float64 0.001\n",
       "  kmax: Float64 100.0\n",
       "  nk: Int64 1001\n",
       "  kgrid: StepRangeLen{Float64, Base.TwicePrecision{Float64}, Base.TwicePrecision{Float64}, Int64}\n",
       "  tol: Float64 1.0e-6\n",
       "  max_iter: Int64 600\n",
       "  u: u (function of type var\"#u#16\")\n",
       "  f: f (function of type var\"#f#17\"{Float64})\n",
       "  u_c: u_c (function of type var\"#u_c#18\")\n",
       "  f_k: f_k (function of type var\"#f_k#19\"{Float64})\n"
      ]
     },
     "metadata": {},
     "output_type": "display_data"
    }
   ],
   "source": [
    "p = make_params()"
   ]
  },
  {
   "cell_type": "code",
   "execution_count": 12,
   "id": "2491d059",
   "metadata": {},
   "outputs": [
    {
     "data": {
      "text/plain": [
       "Params{var\"#u#16\", var\"#f#17\"{Float64}, var\"#u_c#18\", var\"#f_k#19\"{Float64}}"
      ]
     },
     "metadata": {},
     "output_type": "display_data"
    }
   ],
   "source": [
    "typeof(p)"
   ]
  },
  {
   "cell_type": "markdown",
   "id": "3af54e4b",
   "metadata": {},
   "source": [
    "### 1.4 Why should we bother with all of this?\n",
    "\n",
    "1. **Performance** - Declaring variables globally (i.e. before) as opposed to locally (e.g. within functions) results in Julia's compiler knowing much less about the tasks you will get it to do, meaning it needs include alot of checks and avoid optimizations. Compiled languages like Julia really reward your code being inside a function. In fact, you should instantly see a performance improvement if you simply wrap the previous code (apart from loading the packages and remove the const declarations) inside a function and ran it. I.e. try\n",
    "\n",
    "function main()\\\n",
    "    *previous code*\\\n",
    "end\n",
    "\n",
    "@time main()\n",
    "\n",
    "2. **Reusability/readability** - if we were to only run our code once, the only major downside to declaring alot of global variables would be the performance hit. However, we almost never run our code just once. Firstly, for a given set of economic parameters, we often need to play with the numerical parameters to ascertain important things like robustness, minimum number of gridpoints for a given desired accuracy level, and much more. Secondly, alot of the economic research questions that can only be answered with a model require us to do ALOT of experimentation with different combinations of economic parameters, such as comparative statics, or some form of calibration or estimation.\n",
    "\n",
    "If we stuck to the previous style of coding, we would have to manually change the values which is at best, highly error prone and tedious and at worst, renders exercises like structural estimation, which require rerunning the model thousands of times in a formal way, outright impossible. With structs, we can simply load a new configuration of parameters with the following:"
   ]
  },
  {
   "cell_type": "code",
   "execution_count": 13,
   "id": "b7730330",
   "metadata": {},
   "outputs": [
    {
     "data": {
      "text/plain": [
       "Params{var\"#u#16\", var\"#f#17\"{Float64}, var\"#u_c#18\", var\"#f_k#19\"{Float64}}\n",
       "  β: Float64 0.92\n",
       "  α: Float64 0.5\n",
       "  kmin: Float64 0.001\n",
       "  kmax: Float64 100.0\n",
       "  nk: Int64 1001\n",
       "  kgrid: StepRangeLen{Float64, Base.TwicePrecision{Float64}, Base.TwicePrecision{Float64}, Int64}\n",
       "  tol: Float64 1.0e-6\n",
       "  max_iter: Int64 600\n",
       "  u: u (function of type var\"#u#16\")\n",
       "  f: f (function of type var\"#f#17\"{Float64})\n",
       "  u_c: u_c (function of type var\"#u_c#18\")\n",
       "  f_k: f_k (function of type var\"#f_k#19\"{Float64})\n"
      ]
     },
     "metadata": {},
     "output_type": "display_data"
    }
   ],
   "source": [
    "p2 = make_params(β = 0.92, α = 0.5)"
   ]
  },
  {
   "cell_type": "code",
   "execution_count": 14,
   "id": "a44e72af",
   "metadata": {},
   "outputs": [
    {
     "data": {
      "text/plain": [
       "0.92"
      ]
     },
     "metadata": {},
     "output_type": "display_data"
    }
   ],
   "source": [
    "p2.β"
   ]
  },
  {
   "cell_type": "code",
   "execution_count": 15,
   "id": "83c61493",
   "metadata": {},
   "outputs": [
    {
     "data": {
      "text/plain": [
       "0.5"
      ]
     },
     "metadata": {},
     "output_type": "display_data"
    }
   ],
   "source": [
    "p2.α"
   ]
  },
  {
   "cell_type": "markdown",
   "id": "c7a71c45",
   "metadata": {},
   "source": [
    "Since the following functions will be written by taking as something of type Params as an **input**, we can now efficiently solve our model and compute everything of interest by changing which p we pass in!"
   ]
  },
  {
   "cell_type": "markdown",
   "id": "8cf7732b",
   "metadata": {},
   "source": [
    "# 2. Coleman operator\n",
    "\n",
    "The only thing "
   ]
  },
  {
   "cell_type": "code",
   "execution_count": 5,
   "id": "1de5b2de",
   "metadata": {},
   "outputs": [
    {
     "data": {
      "text/plain": [
       "coleman_operator (generic function with 1 method)"
      ]
     },
     "metadata": {},
     "output_type": "display_data"
    }
   ],
   "source": [
    "function coleman_operator(polV_old::Vector{Float64}, p::Params)\n",
    "    @unpack β, kmin, kmax, nk, kgrid, u_c, f, f_k = p\n",
    "\n",
    "    polF_old = CubicSplineInterpolation(kgrid, polV_old)\n",
    "    polV_new = zeros(nk)\n",
    "\n",
    "    for i in eachindex(kgrid)\n",
    "        k = kgrid[i]\n",
    "        function euler_eq(k′)\n",
    "            LHS = u_c(f(k) - k′)\n",
    "            c′ = f(k′) - polF_old(k′)\n",
    "            RHS = β*f_k(k′)*u_c(c′)\n",
    "            return LHS - RHS\n",
    "        end\n",
    "        polV_new[i] = find_zero(euler_eq, (kmin, f(k)))\n",
    "    end\n",
    "    return polV_new\n",
    "end"
   ]
  },
  {
   "cell_type": "markdown",
   "id": "ec7c52cf",
   "metadata": {},
   "source": [
    "# 3. Main loop\n",
    "\n",
    "Now that everything is defined, the only thing left to do is to put it all together in one big iterative loop which will hopefully find the solution. This bit of code is fairly simple - all it does is\n",
    "\n",
    "1. Create an initial guess of the policy function (polV_old)\n",
    "2. Apply the Coleman operator on it to generate a new policy function\n",
    "3. Assess how close the two policy functions are. \n",
    "4. If the distance is close enough, stop and output the latest version of the policy function. If not, start over again where the next iteration's polV_old is the current iteration's polV_new.\n",
    "\n",
    "Two quick remarks:\n",
    "1. Note that all of this is wrapped inside a function, where the only accepted input are the parameters of the problem.\n",
    "2. There are two ways to access the objects in the Params struct. The first way is to simply accessing the field directly, which is what I did above. The second way is with the @unpack macro, which extracts the specific desired fields from $p$. I prefer this because it doesn't require a p. prefix to every object, making the code more readable."
   ]
  },
  {
   "cell_type": "code",
   "execution_count": 6,
   "id": "4ead0de1",
   "metadata": {},
   "outputs": [
    {
     "data": {
      "text/plain": [
       "solve_model_coleman (generic function with 1 method)"
      ]
     },
     "metadata": {},
     "output_type": "display_data"
    }
   ],
   "source": [
    "function solve_model_coleman(p::Params)\n",
    "    @unpack tol, max_iter, nk = p\n",
    "\n",
    "    polV_old = zeros(nk)\n",
    "    iiter = 0\n",
    "    diff = 1\n",
    "\n",
    "    @time while iiter < max_iter \n",
    "        iiter += 1\n",
    "        polnew_V = coleman_operator(polV_old, p)\n",
    "\n",
    "        diff = norm(polnew_V - polV_old, Inf)\n",
    "\n",
    "        println(\"Iteration $iiter, Error: $diff\")\n",
    "\n",
    "        polV_old = copy(polnew_V)\n",
    "\n",
    "        if diff < tol\n",
    "            println(\"Converged after $iiter iterations\")\n",
    "            break\n",
    "        end\n",
    "    end\n",
    "    return polV_old\n",
    "end"
   ]
  },
  {
   "cell_type": "code",
   "execution_count": 70,
   "id": "e9c97792",
   "metadata": {},
   "outputs": [
    {
     "name": "stdout",
     "output_type": "stream",
     "text": [
      "Iteration 1, Error: 1.7506330945115192\n",
      "Iteration 2, Error: 0.4389568555464729\n",
      "Iteration 3, Error: 0.14688290683572713\n",
      "Iteration 4, Error: 0.053431714606226866\n",
      "Iteration 5, Error: 0.020280034479680964\n",
      "Iteration 6, Error: 0.007679063548811538\n",
      "Iteration 7, Error: 0.002884560209381881\n",
      "Iteration 8, Error: 0.0010764313351376842\n",
      "Iteration 9, Error: 0.000400140596824361\n",
      "Iteration 10, Error: 0.00014844659028367957\n",
      "Iteration 11, Error: 5.5016115252826125e-5\n",
      "Iteration 12, Error: 2.0379317269281216e-5\n",
      "Iteration 13, Error: 7.547082452319387e-6\n",
      "Iteration 14, Error: 2.794560049146355e-6\n",
      "Iteration 15, Error: 1.0347139665078942e-6\n",
      "Iteration 16, Error: 3.831011885502278e-7\n",
      "Converged after 16 iterations\n",
      "  0.080251 seconds (257.88 k allocations: 12.090 MiB, 1.51% gc time)\n"
     ]
    }
   ],
   "source": [
    "polV = solve_model_coleman(p);"
   ]
  },
  {
   "cell_type": "markdown",
   "id": "374c9dab",
   "metadata": {},
   "source": [
    "Incredibly, Coleman time-iteration managed to find the policy function in just 16 iterations as opposed to 455, and the model was solved in just 80 miliseconds! Moreover, note that we can easily solve the model again with a different set of parameters (such as those corresponding to p2 above) with just a single line: "
   ]
  },
  {
   "cell_type": "code",
   "execution_count": 60,
   "id": "f5504f5e",
   "metadata": {},
   "outputs": [
    {
     "name": "stdout",
     "output_type": "stream",
     "text": [
      "Iteration 1, Error: 1.7506330945115192\n",
      "Iteration 2, Error: 0.4389568555464729\n",
      "Iteration 3, Error: 0.14688290683572713\n",
      "Iteration 4, Error: 0.053431714606226866\n",
      "Iteration 5, Error: 0.020280034479680964\n",
      "Iteration 6, Error: 0.007679063548811538\n",
      "Iteration 7, Error: 0.002884560209381881\n",
      "Iteration 8, Error: 0.0010764313351376842\n",
      "Iteration 9, Error: 0.000400140596824361\n",
      "Iteration 10, Error: 0.00014844659028367957\n",
      "Iteration 11, Error: 5.5016115252826125e-5\n",
      "Iteration 12, Error: 2.0379317269281216e-5\n",
      "Iteration 13, Error: 7.547082452319387e-6\n",
      "Iteration 14, Error: 2.794560049146355e-6\n",
      "Iteration 15, Error: 1.0347139665078942e-6\n",
      "Iteration 16, Error: 3.831011885502278e-7\n",
      "Converged after 16 iterations\n",
      "  0.071943 seconds (257.88 k allocations: 12.088 MiB, 1.55% gc time)\n"
     ]
    },
    {
     "data": {
      "text/plain": [
       "1001-element Vector{Float64}:\n",
       " 0.02130104112863914\n",
       " 0.15521618489223707\n",
       " 0.20205703297442712\n",
       " 0.23677467018225526\n",
       " 0.2656977402132537\n",
       " 0.2907697299048713\n",
       " 0.3129493899133819\n",
       " 0.3329020581243854\n",
       " 0.35113984296856404\n",
       " 0.3680172063270514\n",
       " ⋮\n",
       " 2.414688245723613\n",
       " 2.4156618179293927\n",
       " 2.41663480181233\n",
       " 2.417607198318688\n",
       " 2.418579008392285\n",
       " 2.4195502329744993\n",
       " 2.4205208730042806\n",
       " 2.421490929418158\n",
       " 2.422460403150245"
      ]
     },
     "metadata": {},
     "output_type": "display_data"
    }
   ],
   "source": [
    "solve_model_coleman(p2)"
   ]
  },
  {
   "cell_type": "markdown",
   "id": "0049ca63",
   "metadata": {},
   "source": [
    "Let's evaluate the numerical accuracy of PFI by calculating the Euler residuals again."
   ]
  },
  {
   "cell_type": "code",
   "execution_count": 21,
   "id": "ddfe4cb5",
   "metadata": {},
   "outputs": [
    {
     "data": {
      "image/png": "[encoded data removed]",
      "image/svg+xml": [
       "<?xml version=\"1.0\" encoding=\"utf-8\"?>\n",
       "<svg xmlns=\"http://www.w3.org/2000/svg\" xmlns:xlink=\"http://www.w3.org/1999/xlink\" width=\"600\" height=\"400\" viewBox=\"0 0 2400 1600\">\n",
       "<defs>\n",
       "  <clipPath id=\"clip230\">\n",
       "    <rect x=\"0\" y=\"0\" width=\"2400\" height=\"1600\"/>\n",
       "  </clipPath>\n",
       "</defs>\n",
       "<path clip-path=\"url(#clip230)\" d=\"M0 1600 L2400 1600 L2400 8.88178e-14 L0 8.88178e-14  Z\" fill=\"#ffffff\" fill-rule=\"evenodd\" fill-opacity=\"1\"/>\n",
       "<defs>\n",
       "  <clipPath id=\"clip231\">\n",
       "    <rect x=\"480\" y=\"0\" width=\"1681\" height=\"1600\"/>\n",
       "  </clipPath>\n",
       "</defs>\n",
       "<path clip-path=\"url(#clip230)\" d=\"M219.38 1423.18 L2352.76 1423.18 L2352.76 47.2441 L219.38 47.2441  Z\" fill=\"#ffffff\" fill-rule=\"evenodd\" fill-opacity=\"1\"/>\n",
       "<defs>\n",
       "  <clipPath id=\"clip232\">\n",
       "    <rect x=\"219\" y=\"47\" width=\"2134\" height=\"1377\"/>\n",
       "  </clipPath>\n",
       "</defs>\n",
       "<polyline clip-path=\"url(#clip232)\" style=\"stroke:#000000; stroke-linecap:round; stroke-linejoin:round; stroke-width:2; stroke-opacity:0.1; fill:none\" points=\"279.739,1423.18 279.739,47.2441 \"/>\n",
       "<polyline clip-path=\"url(#clip232)\" style=\"stroke:#000000; stroke-linecap:round; stroke-linejoin:round; stroke-width:2; stroke-opacity:0.1; fill:none\" points=\"782.898,1423.18 782.898,47.2441 \"/>\n",
       "<polyline clip-path=\"url(#clip232)\" style=\"stroke:#000000; stroke-linecap:round; stroke-linejoin:round; stroke-width:2; stroke-opacity:0.1; fill:none\" points=\"1286.06,1423.18 1286.06,47.2441 \"/>\n",
       "<polyline clip-path=\"url(#clip232)\" style=\"stroke:#000000; stroke-linecap:round; stroke-linejoin:round; stroke-width:2; stroke-opacity:0.1; fill:none\" points=\"1789.22,1423.18 1789.22,47.2441 \"/>\n",
       "<polyline clip-path=\"url(#clip232)\" style=\"stroke:#000000; stroke-linecap:round; stroke-linejoin:round; stroke-width:2; stroke-opacity:0.1; fill:none\" points=\"2292.38,1423.18 2292.38,47.2441 \"/>\n",
       "<polyline clip-path=\"url(#clip232)\" style=\"stroke:#000000; stroke-linecap:round; stroke-linejoin:round; stroke-width:2; stroke-opacity:0.1; fill:none\" points=\"219.38,1395.75 2352.76,1395.75 \"/>\n",
       "<polyline clip-path=\"url(#clip232)\" style=\"stroke:#000000; stroke-linecap:round; stroke-linejoin:round; stroke-width:2; stroke-opacity:0.1; fill:none\" points=\"219.38,1125.5 2352.76,1125.5 \"/>\n",
       "<polyline clip-path=\"url(#clip232)\" style=\"stroke:#000000; stroke-linecap:round; stroke-linejoin:round; stroke-width:2; stroke-opacity:0.1; fill:none\" points=\"219.38,855.251 2352.76,855.251 \"/>\n",
       "<polyline clip-path=\"url(#clip232)\" style=\"stroke:#000000; stroke-linecap:round; stroke-linejoin:round; stroke-width:2; stroke-opacity:0.1; fill:none\" points=\"219.38,585.001 2352.76,585.001 \"/>\n",
       "<polyline clip-path=\"url(#clip232)\" style=\"stroke:#000000; stroke-linecap:round; stroke-linejoin:round; stroke-width:2; stroke-opacity:0.1; fill:none\" points=\"219.38,314.75 2352.76,314.75 \"/>\n",
       "<polyline clip-path=\"url(#clip230)\" style=\"stroke:#000000; stroke-linecap:round; stroke-linejoin:round; stroke-width:4; stroke-opacity:1; fill:none\" points=\"219.38,1423.18 2352.76,1423.18 \"/>\n",
       "<polyline clip-path=\"url(#clip230)\" style=\"stroke:#000000; stroke-linecap:round; stroke-linejoin:round; stroke-width:4; stroke-opacity:1; fill:none\" points=\"279.739,1423.18 279.739,1404.28 \"/>\n",
       "<polyline clip-path=\"url(#clip230)\" style=\"stroke:#000000; stroke-linecap:round; stroke-linejoin:round; stroke-width:4; stroke-opacity:1; fill:none\" points=\"782.898,1423.18 782.898,1404.28 \"/>\n",
       "<polyline clip-path=\"url(#clip230)\" style=\"stroke:#000000; stroke-linecap:round; stroke-linejoin:round; stroke-width:4; stroke-opacity:1; fill:none\" points=\"1286.06,1423.18 1286.06,1404.28 \"/>\n",
       "<polyline clip-path=\"url(#clip230)\" style=\"stroke:#000000; stroke-linecap:round; stroke-linejoin:round; stroke-width:4; stroke-opacity:1; fill:none\" points=\"1789.22,1423.18 1789.22,1404.28 \"/>\n",
       "<polyline clip-path=\"url(#clip230)\" style=\"stroke:#000000; stroke-linecap:round; stroke-linejoin:round; stroke-width:4; stroke-opacity:1; fill:none\" points=\"2292.38,1423.18 2292.38,1404.28 \"/>\n",
       "<path clip-path=\"url(#clip230)\" d=\"M279.739 1454.1 Q276.127 1454.1 274.299 1457.66 Q272.493 1461.2 272.493 1468.33 Q272.493 1475.44 274.299 1479.01 Q276.127 1482.55 279.739 1482.55 Q283.373 1482.55 285.178 1479.01 Q287.007 1475.44 287.007 1468.33 Q287.007 1461.2 285.178 1457.66 Q283.373 1454.1 279.739 1454.1 M279.739 1450.39 Q285.549 1450.39 288.604 1455 Q291.683 1459.58 291.683 1468.33 Q291.683 1477.06 288.604 1481.67 Q285.549 1486.25 279.739 1486.25 Q273.928 1486.25 270.85 1481.67 Q267.794 1477.06 267.794 1468.33 Q267.794 1459.58 270.85 1455 Q273.928 1450.39 279.739 1450.39 Z\" fill=\"#000000\" fill-rule=\"nonzero\" fill-opacity=\"1\" /><path clip-path=\"url(#clip230)\" d=\"M762.169 1481.64 L778.489 1481.64 L778.489 1485.58 L756.544 1485.58 L756.544 1481.64 Q759.206 1478.89 763.79 1474.26 Q768.396 1469.61 769.577 1468.27 Q771.822 1465.74 772.702 1464.01 Q773.604 1462.25 773.604 1460.56 Q773.604 1457.8 771.66 1456.07 Q769.739 1454.33 766.637 1454.33 Q764.438 1454.33 761.984 1455.09 Q759.553 1455.86 756.776 1457.41 L756.776 1452.69 Q759.6 1451.55 762.053 1450.97 Q764.507 1450.39 766.544 1450.39 Q771.915 1450.39 775.109 1453.08 Q778.303 1455.77 778.303 1460.26 Q778.303 1462.39 777.493 1464.31 Q776.706 1466.2 774.6 1468.8 Q774.021 1469.47 770.919 1472.69 Q767.817 1475.88 762.169 1481.64 Z\" fill=\"#000000\" fill-rule=\"nonzero\" fill-opacity=\"1\" /><path clip-path=\"url(#clip230)\" d=\"M788.35 1451.02 L806.706 1451.02 L806.706 1454.96 L792.632 1454.96 L792.632 1463.43 Q793.651 1463.08 794.669 1462.92 Q795.688 1462.73 796.706 1462.73 Q802.493 1462.73 805.873 1465.9 Q809.252 1469.08 809.252 1474.49 Q809.252 1480.07 805.78 1483.17 Q802.308 1486.25 795.988 1486.25 Q793.813 1486.25 791.544 1485.88 Q789.299 1485.51 786.891 1484.77 L786.891 1480.07 Q788.975 1481.2 791.197 1481.76 Q793.419 1482.32 795.896 1482.32 Q799.901 1482.32 802.238 1480.21 Q804.576 1478.1 804.576 1474.49 Q804.576 1470.88 802.238 1468.77 Q799.901 1466.67 795.896 1466.67 Q794.021 1466.67 792.146 1467.08 Q790.294 1467.5 788.35 1468.38 L788.35 1451.02 Z\" fill=\"#000000\" fill-rule=\"nonzero\" fill-opacity=\"1\" /><path clip-path=\"url(#clip230)\" d=\"M1260.76 1451.02 L1279.11 1451.02 L1279.11 1454.96 L1265.04 1454.96 L1265.04 1463.43 Q1266.06 1463.08 1267.08 1462.92 Q1268.1 1462.73 1269.11 1462.73 Q1274.9 1462.73 1278.28 1465.9 Q1281.66 1469.08 1281.66 1474.49 Q1281.66 1480.07 1278.19 1483.17 Q1274.72 1486.25 1268.4 1486.25 Q1266.22 1486.25 1263.95 1485.88 Q1261.71 1485.51 1259.3 1484.77 L1259.3 1480.07 Q1261.38 1481.2 1263.6 1481.76 Q1265.83 1482.32 1268.3 1482.32 Q1272.31 1482.32 1274.65 1480.21 Q1276.98 1478.1 1276.98 1474.49 Q1276.98 1470.88 1274.65 1468.77 Q1272.31 1466.67 1268.3 1466.67 Q1266.43 1466.67 1264.55 1467.08 Q1262.7 1467.5 1260.76 1468.38 L1260.76 1451.02 Z\" fill=\"#000000\" fill-rule=\"nonzero\" fill-opacity=\"1\" /><path clip-path=\"url(#clip230)\" d=\"M1300.87 1454.1 Q1297.26 1454.1 1295.43 1457.66 Q1293.63 1461.2 1293.63 1468.33 Q1293.63 1475.44 1295.43 1479.01 Q1297.26 1482.55 1300.87 1482.55 Q1304.51 1482.55 1306.31 1479.01 Q1308.14 1475.44 1308.14 1468.33 Q1308.14 1461.2 1306.31 1457.66 Q1304.51 1454.1 1300.87 1454.1 M1300.87 1450.39 Q1306.68 1450.39 1309.74 1455 Q1312.82 1459.58 1312.82 1468.33 Q1312.82 1477.06 1309.74 1481.67 Q1306.68 1486.25 1300.87 1486.25 Q1295.06 1486.25 1291.98 1481.67 Q1288.93 1477.06 1288.93 1468.33 Q1288.93 1459.58 1291.98 1455 Q1295.06 1450.39 1300.87 1450.39 Z\" fill=\"#000000\" fill-rule=\"nonzero\" fill-opacity=\"1\" /><path clip-path=\"url(#clip230)\" d=\"M1763.07 1451.02 L1785.29 1451.02 L1785.29 1453.01 L1772.75 1485.58 L1767.86 1485.58 L1779.67 1454.96 L1763.07 1454.96 L1763.07 1451.02 Z\" fill=\"#000000\" fill-rule=\"nonzero\" fill-opacity=\"1\" /><path clip-path=\"url(#clip230)\" d=\"M1794.46 1451.02 L1812.82 1451.02 L1812.82 1454.96 L1798.74 1454.96 L1798.74 1463.43 Q1799.76 1463.08 1800.78 1462.92 Q1801.8 1462.73 1802.82 1462.73 Q1808.6 1462.73 1811.98 1465.9 Q1815.36 1469.08 1815.36 1474.49 Q1815.36 1480.07 1811.89 1483.17 Q1808.42 1486.25 1802.1 1486.25 Q1799.92 1486.25 1797.66 1485.88 Q1795.41 1485.51 1793 1484.77 L1793 1480.07 Q1795.09 1481.2 1797.31 1481.76 Q1799.53 1482.32 1802.01 1482.32 Q1806.01 1482.32 1808.35 1480.21 Q1810.69 1478.1 1810.69 1474.49 Q1810.69 1470.88 1808.35 1468.77 Q1806.01 1466.67 1802.01 1466.67 Q1800.13 1466.67 1798.26 1467.08 Q1796.41 1467.5 1794.46 1468.38 L1794.46 1451.02 Z\" fill=\"#000000\" fill-rule=\"nonzero\" fill-opacity=\"1\" /><path clip-path=\"url(#clip230)\" d=\"M2251.98 1481.64 L2259.62 1481.64 L2259.62 1455.28 L2251.31 1456.95 L2251.31 1452.69 L2259.58 1451.02 L2264.25 1451.02 L2264.25 1481.64 L2271.89 1481.64 L2271.89 1485.58 L2251.98 1485.58 L2251.98 1481.64 Z\" fill=\"#000000\" fill-rule=\"nonzero\" fill-opacity=\"1\" /><path clip-path=\"url(#clip230)\" d=\"M2291.34 1454.1 Q2287.72 1454.1 2285.9 1457.66 Q2284.09 1461.2 2284.09 1468.33 Q2284.09 1475.44 2285.9 1479.01 Q2287.72 1482.55 2291.34 1482.55 Q2294.97 1482.55 2296.78 1479.01 Q2298.6 1475.44 2298.6 1468.33 Q2298.6 1461.2 2296.78 1457.66 Q2294.97 1454.1 2291.34 1454.1 M2291.34 1450.39 Q2297.15 1450.39 2300.2 1455 Q2303.28 1459.58 2303.28 1468.33 Q2303.28 1477.06 2300.2 1481.67 Q2297.15 1486.25 2291.34 1486.25 Q2285.53 1486.25 2282.45 1481.67 Q2279.39 1477.06 2279.39 1468.33 Q2279.39 1459.58 2282.45 1455 Q2285.53 1450.39 2291.34 1450.39 Z\" fill=\"#000000\" fill-rule=\"nonzero\" fill-opacity=\"1\" /><path clip-path=\"url(#clip230)\" d=\"M2321.5 1454.1 Q2317.89 1454.1 2316.06 1457.66 Q2314.25 1461.2 2314.25 1468.33 Q2314.25 1475.44 2316.06 1479.01 Q2317.89 1482.55 2321.5 1482.55 Q2325.13 1482.55 2326.94 1479.01 Q2328.77 1475.44 2328.77 1468.33 Q2328.77 1461.2 2326.94 1457.66 Q2325.13 1454.1 2321.5 1454.1 M2321.5 1450.39 Q2327.31 1450.39 2330.36 1455 Q2333.44 1459.58 2333.44 1468.33 Q2333.44 1477.06 2330.36 1481.67 Q2327.31 1486.25 2321.5 1486.25 Q2315.69 1486.25 2312.61 1481.67 Q2309.55 1477.06 2309.55 1468.33 Q2309.55 1459.58 2312.61 1455 Q2315.69 1450.39 2321.5 1450.39 Z\" fill=\"#000000\" fill-rule=\"nonzero\" fill-opacity=\"1\" /><path clip-path=\"url(#clip230)\" d=\"M1214.99 1524.18 L1214.99 1530.96 Q1211.75 1527.94 1208.06 1526.44 Q1204.4 1524.95 1200.26 1524.95 Q1192.11 1524.95 1187.78 1529.95 Q1183.45 1534.91 1183.45 1544.33 Q1183.45 1553.72 1187.78 1558.72 Q1192.11 1563.68 1200.26 1563.68 Q1204.4 1563.68 1208.06 1562.19 Q1211.75 1560.69 1214.99 1557.67 L1214.99 1564.38 Q1211.62 1566.68 1207.83 1567.82 Q1204.08 1568.97 1199.88 1568.97 Q1189.09 1568.97 1182.88 1562.38 Q1176.67 1555.76 1176.67 1544.33 Q1176.67 1532.87 1182.88 1526.28 Q1189.09 1519.66 1199.88 1519.66 Q1204.14 1519.66 1207.9 1520.81 Q1211.68 1521.92 1214.99 1524.18 Z\" fill=\"#000000\" fill-rule=\"nonzero\" fill-opacity=\"1\" /><path clip-path=\"url(#clip230)\" d=\"M1240.87 1550.12 Q1233.77 1550.12 1231.04 1551.75 Q1228.3 1553.37 1228.3 1557.29 Q1228.3 1560.4 1230.34 1562.25 Q1232.41 1564.07 1235.94 1564.07 Q1240.81 1564.07 1243.74 1560.63 Q1246.7 1557.16 1246.7 1551.43 L1246.7 1550.12 L1240.87 1550.12 M1252.55 1547.71 L1252.55 1568.04 L1246.7 1568.04 L1246.7 1562.63 Q1244.69 1565.88 1241.7 1567.44 Q1238.71 1568.97 1234.38 1568.97 Q1228.9 1568.97 1225.66 1565.91 Q1222.44 1562.82 1222.44 1557.67 Q1222.44 1551.65 1226.45 1548.6 Q1230.5 1545.54 1238.48 1545.54 L1246.7 1545.54 L1246.7 1544.97 Q1246.7 1540.93 1244.02 1538.73 Q1241.38 1536.5 1236.57 1536.5 Q1233.52 1536.5 1230.62 1537.23 Q1227.73 1537.97 1225.05 1539.43 L1225.05 1534.02 Q1228.27 1532.78 1231.29 1532.17 Q1234.31 1531.54 1237.18 1531.54 Q1244.91 1531.54 1248.73 1535.55 Q1252.55 1539.56 1252.55 1547.71 Z\" fill=\"#000000\" fill-rule=\"nonzero\" fill-opacity=\"1\" /><path clip-path=\"url(#clip230)\" d=\"M1270.28 1562.7 L1270.28 1581.6 L1264.39 1581.6 L1264.39 1532.4 L1270.28 1532.4 L1270.28 1537.81 Q1272.13 1534.62 1274.93 1533.1 Q1277.76 1531.54 1281.68 1531.54 Q1288.17 1531.54 1292.21 1536.69 Q1296.28 1541.85 1296.28 1550.25 Q1296.28 1558.65 1292.21 1563.81 Q1288.17 1568.97 1281.68 1568.97 Q1277.76 1568.97 1274.93 1567.44 Q1272.13 1565.88 1270.28 1562.7 M1290.21 1550.25 Q1290.21 1543.79 1287.53 1540.13 Q1284.89 1536.44 1280.24 1536.44 Q1275.6 1536.44 1272.92 1540.13 Q1270.28 1543.79 1270.28 1550.25 Q1270.28 1556.71 1272.92 1560.4 Q1275.6 1564.07 1280.24 1564.07 Q1284.89 1564.07 1287.53 1560.4 Q1290.21 1556.71 1290.21 1550.25 Z\" fill=\"#000000\" fill-rule=\"nonzero\" fill-opacity=\"1\" /><path clip-path=\"url(#clip230)\" d=\"M1305.99 1532.4 L1311.85 1532.4 L1311.85 1568.04 L1305.99 1568.04 L1305.99 1532.4 M1305.99 1518.52 L1311.85 1518.52 L1311.85 1525.93 L1305.99 1525.93 L1305.99 1518.52 Z\" fill=\"#000000\" fill-rule=\"nonzero\" fill-opacity=\"1\" /><path clip-path=\"url(#clip230)\" d=\"M1329.9 1522.27 L1329.9 1532.4 L1341.96 1532.4 L1341.96 1536.95 L1329.9 1536.95 L1329.9 1556.3 Q1329.9 1560.66 1331.07 1561.9 Q1332.28 1563.14 1335.94 1563.14 L1341.96 1563.14 L1341.96 1568.04 L1335.94 1568.04 Q1329.16 1568.04 1326.59 1565.53 Q1324.01 1562.98 1324.01 1556.3 L1324.01 1536.95 L1319.71 1536.95 L1319.71 1532.4 L1324.01 1532.4 L1324.01 1522.27 L1329.9 1522.27 Z\" fill=\"#000000\" fill-rule=\"nonzero\" fill-opacity=\"1\" /><path clip-path=\"url(#clip230)\" d=\"M1365.86 1550.12 Q1358.76 1550.12 1356.03 1551.75 Q1353.29 1553.37 1353.29 1557.29 Q1353.29 1560.4 1355.33 1562.25 Q1357.4 1564.07 1360.93 1564.07 Q1365.8 1564.07 1368.73 1560.63 Q1371.69 1557.16 1371.69 1551.43 L1371.69 1550.12 L1365.86 1550.12 M1377.54 1547.71 L1377.54 1568.04 L1371.69 1568.04 L1371.69 1562.63 Q1369.68 1565.88 1366.69 1567.44 Q1363.7 1568.97 1359.37 1568.97 Q1353.89 1568.97 1350.65 1565.91 Q1347.43 1562.82 1347.43 1557.67 Q1347.43 1551.65 1351.44 1548.6 Q1355.49 1545.54 1363.48 1545.54 L1371.69 1545.54 L1371.69 1544.97 Q1371.69 1540.93 1369.01 1538.73 Q1366.37 1536.5 1361.57 1536.5 Q1358.51 1536.5 1355.61 1537.23 Q1352.72 1537.97 1350.04 1539.43 L1350.04 1534.02 Q1353.26 1532.78 1356.28 1532.17 Q1359.31 1531.54 1362.17 1531.54 Q1369.9 1531.54 1373.72 1535.55 Q1377.54 1539.56 1377.54 1547.71 Z\" fill=\"#000000\" fill-rule=\"nonzero\" fill-opacity=\"1\" /><path clip-path=\"url(#clip230)\" d=\"M1389.61 1518.52 L1395.46 1518.52 L1395.46 1568.04 L1389.61 1568.04 L1389.61 1518.52 Z\" fill=\"#000000\" fill-rule=\"nonzero\" fill-opacity=\"1\" /><polyline clip-path=\"url(#clip230)\" style=\"stroke:#000000; stroke-linecap:round; stroke-linejoin:round; stroke-width:4; stroke-opacity:1; fill:none\" points=\"219.38,1423.18 219.38,47.2441 \"/>\n",
       "<polyline clip-path=\"url(#clip230)\" style=\"stroke:#000000; stroke-linecap:round; stroke-linejoin:round; stroke-width:4; stroke-opacity:1; fill:none\" points=\"219.38,1395.75 238.278,1395.75 \"/>\n",
       "<polyline clip-path=\"url(#clip230)\" style=\"stroke:#000000; stroke-linecap:round; stroke-linejoin:round; stroke-width:4; stroke-opacity:1; fill:none\" points=\"219.38,1125.5 238.278,1125.5 \"/>\n",
       "<polyline clip-path=\"url(#clip230)\" style=\"stroke:#000000; stroke-linecap:round; stroke-linejoin:round; stroke-width:4; stroke-opacity:1; fill:none\" points=\"219.38,855.251 238.278,855.251 \"/>\n",
       "<polyline clip-path=\"url(#clip230)\" style=\"stroke:#000000; stroke-linecap:round; stroke-linejoin:round; stroke-width:4; stroke-opacity:1; fill:none\" points=\"219.38,585.001 238.278,585.001 \"/>\n",
       "<polyline clip-path=\"url(#clip230)\" style=\"stroke:#000000; stroke-linecap:round; stroke-linejoin:round; stroke-width:4; stroke-opacity:1; fill:none\" points=\"219.38,314.75 238.278,314.75 \"/>\n",
       "<path clip-path=\"url(#clip230)\" d=\"M126.205 1381.55 Q122.593 1381.55 120.765 1385.11 Q118.959 1388.66 118.959 1395.79 Q118.959 1402.89 120.765 1406.46 Q122.593 1410 126.205 1410 Q129.839 1410 131.644 1406.46 Q133.473 1402.89 133.473 1395.79 Q133.473 1388.66 131.644 1385.11 Q129.839 1381.55 126.205 1381.55 M126.205 1377.85 Q132.015 1377.85 135.07 1382.45 Q138.149 1387.04 138.149 1395.79 Q138.149 1404.51 135.07 1409.12 Q132.015 1413.7 126.205 1413.7 Q120.394 1413.7 117.316 1409.12 Q114.26 1404.51 114.26 1395.79 Q114.26 1387.04 117.316 1382.45 Q120.394 1377.85 126.205 1377.85 Z\" fill=\"#000000\" fill-rule=\"nonzero\" fill-opacity=\"1\" /><path clip-path=\"url(#clip230)\" d=\"M146.366 1407.15 L151.251 1407.15 L151.251 1413.03 L146.366 1413.03 L146.366 1407.15 Z\" fill=\"#000000\" fill-rule=\"nonzero\" fill-opacity=\"1\" /><path clip-path=\"url(#clip230)\" d=\"M171.436 1381.55 Q167.825 1381.55 165.996 1385.11 Q164.19 1388.66 164.19 1395.79 Q164.19 1402.89 165.996 1406.46 Q167.825 1410 171.436 1410 Q175.07 1410 176.876 1406.46 Q178.704 1402.89 178.704 1395.79 Q178.704 1388.66 176.876 1385.11 Q175.07 1381.55 171.436 1381.55 M171.436 1377.85 Q177.246 1377.85 180.301 1382.45 Q183.38 1387.04 183.38 1395.79 Q183.38 1404.51 180.301 1409.12 Q177.246 1413.7 171.436 1413.7 Q165.626 1413.7 162.547 1409.12 Q159.491 1404.51 159.491 1395.79 Q159.491 1387.04 162.547 1382.45 Q165.626 1377.85 171.436 1377.85 Z\" fill=\"#000000\" fill-rule=\"nonzero\" fill-opacity=\"1\" /><path clip-path=\"url(#clip230)\" d=\"M127.2 1111.3 Q123.589 1111.3 121.76 1114.86 Q119.955 1118.41 119.955 1125.54 Q119.955 1132.64 121.76 1136.21 Q123.589 1139.75 127.2 1139.75 Q130.834 1139.75 132.64 1136.21 Q134.468 1132.64 134.468 1125.54 Q134.468 1118.41 132.64 1114.86 Q130.834 1111.3 127.2 1111.3 M127.2 1107.6 Q133.01 1107.6 136.066 1112.2 Q139.144 1116.79 139.144 1125.54 Q139.144 1134.26 136.066 1138.87 Q133.01 1143.45 127.2 1143.45 Q121.39 1143.45 118.311 1138.87 Q115.256 1134.26 115.256 1125.54 Q115.256 1116.79 118.311 1112.2 Q121.39 1107.6 127.2 1107.6 Z\" fill=\"#000000\" fill-rule=\"nonzero\" fill-opacity=\"1\" /><path clip-path=\"url(#clip230)\" d=\"M147.362 1136.9 L152.246 1136.9 L152.246 1142.78 L147.362 1142.78 L147.362 1136.9 Z\" fill=\"#000000\" fill-rule=\"nonzero\" fill-opacity=\"1\" /><path clip-path=\"url(#clip230)\" d=\"M162.477 1108.22 L180.834 1108.22 L180.834 1112.16 L166.76 1112.16 L166.76 1120.63 Q167.778 1120.28 168.797 1120.12 Q169.815 1119.93 170.834 1119.93 Q176.621 1119.93 180.001 1123.11 Q183.38 1126.28 183.38 1131.69 Q183.38 1137.27 179.908 1140.37 Q176.436 1143.45 170.116 1143.45 Q167.94 1143.45 165.672 1143.08 Q163.427 1142.71 161.019 1141.97 L161.019 1137.27 Q163.102 1138.41 165.325 1138.96 Q167.547 1139.52 170.024 1139.52 Q174.028 1139.52 176.366 1137.41 Q178.704 1135.3 178.704 1131.69 Q178.704 1128.08 176.366 1125.98 Q174.028 1123.87 170.024 1123.87 Q168.149 1123.87 166.274 1124.29 Q164.422 1124.7 162.477 1125.58 L162.477 1108.22 Z\" fill=\"#000000\" fill-rule=\"nonzero\" fill-opacity=\"1\" /><path clip-path=\"url(#clip230)\" d=\"M117.015 868.596 L124.654 868.596 L124.654 842.23 L116.343 843.897 L116.343 839.638 L124.607 837.971 L129.283 837.971 L129.283 868.596 L136.922 868.596 L136.922 872.531 L117.015 872.531 L117.015 868.596 Z\" fill=\"#000000\" fill-rule=\"nonzero\" fill-opacity=\"1\" /><path clip-path=\"url(#clip230)\" d=\"M146.366 866.651 L151.251 866.651 L151.251 872.531 L146.366 872.531 L146.366 866.651 Z\" fill=\"#000000\" fill-rule=\"nonzero\" fill-opacity=\"1\" /><path clip-path=\"url(#clip230)\" d=\"M171.436 841.05 Q167.825 841.05 165.996 844.614 Q164.19 848.156 164.19 855.286 Q164.19 862.392 165.996 865.957 Q167.825 869.499 171.436 869.499 Q175.07 869.499 176.876 865.957 Q178.704 862.392 178.704 855.286 Q178.704 848.156 176.876 844.614 Q175.07 841.05 171.436 841.05 M171.436 837.346 Q177.246 837.346 180.301 841.952 Q183.38 846.536 183.38 855.286 Q183.38 864.013 180.301 868.619 Q177.246 873.202 171.436 873.202 Q165.626 873.202 162.547 868.619 Q159.491 864.013 159.491 855.286 Q159.491 846.536 162.547 841.952 Q165.626 837.346 171.436 837.346 Z\" fill=\"#000000\" fill-rule=\"nonzero\" fill-opacity=\"1\" /><path clip-path=\"url(#clip230)\" d=\"M118.01 598.346 L125.649 598.346 L125.649 571.98 L117.339 573.647 L117.339 569.387 L125.603 567.721 L130.279 567.721 L130.279 598.346 L137.917 598.346 L137.917 602.281 L118.01 602.281 L118.01 598.346 Z\" fill=\"#000000\" fill-rule=\"nonzero\" fill-opacity=\"1\" /><path clip-path=\"url(#clip230)\" d=\"M147.362 596.401 L152.246 596.401 L152.246 602.281 L147.362 602.281 L147.362 596.401 Z\" fill=\"#000000\" fill-rule=\"nonzero\" fill-opacity=\"1\" /><path clip-path=\"url(#clip230)\" d=\"M162.477 567.721 L180.834 567.721 L180.834 571.656 L166.76 571.656 L166.76 580.128 Q167.778 579.781 168.797 579.619 Q169.815 579.434 170.834 579.434 Q176.621 579.434 180.001 582.605 Q183.38 585.776 183.38 591.193 Q183.38 596.771 179.908 599.873 Q176.436 602.952 170.116 602.952 Q167.94 602.952 165.672 602.582 Q163.427 602.211 161.019 601.471 L161.019 596.771 Q163.102 597.906 165.325 598.461 Q167.547 599.017 170.024 599.017 Q174.028 599.017 176.366 596.91 Q178.704 594.804 178.704 591.193 Q178.704 587.582 176.366 585.475 Q174.028 583.369 170.024 583.369 Q168.149 583.369 166.274 583.785 Q164.422 584.202 162.477 585.082 L162.477 567.721 Z\" fill=\"#000000\" fill-rule=\"nonzero\" fill-opacity=\"1\" /><path clip-path=\"url(#clip230)\" d=\"M120.232 328.095 L136.552 328.095 L136.552 332.03 L114.607 332.03 L114.607 328.095 Q117.269 325.341 121.853 320.711 Q126.459 316.058 127.64 314.716 Q129.885 312.193 130.765 310.457 Q131.667 308.697 131.667 307.007 Q131.667 304.253 129.723 302.517 Q127.802 300.781 124.7 300.781 Q122.501 300.781 120.047 301.545 Q117.617 302.308 114.839 303.859 L114.839 299.137 Q117.663 298.003 120.117 297.424 Q122.57 296.845 124.607 296.845 Q129.978 296.845 133.172 299.531 Q136.367 302.216 136.367 306.707 Q136.367 308.836 135.556 310.757 Q134.769 312.656 132.663 315.248 Q132.084 315.919 128.982 319.137 Q125.88 322.331 120.232 328.095 Z\" fill=\"#000000\" fill-rule=\"nonzero\" fill-opacity=\"1\" /><path clip-path=\"url(#clip230)\" d=\"M146.366 326.151 L151.251 326.151 L151.251 332.03 L146.366 332.03 L146.366 326.151 Z\" fill=\"#000000\" fill-rule=\"nonzero\" fill-opacity=\"1\" /><path clip-path=\"url(#clip230)\" d=\"M171.436 300.549 Q167.825 300.549 165.996 304.114 Q164.19 307.656 164.19 314.785 Q164.19 321.892 165.996 325.456 Q167.825 328.998 171.436 328.998 Q175.07 328.998 176.876 325.456 Q178.704 321.892 178.704 314.785 Q178.704 307.656 176.876 304.114 Q175.07 300.549 171.436 300.549 M171.436 296.845 Q177.246 296.845 180.301 301.452 Q183.38 306.035 183.38 314.785 Q183.38 323.512 180.301 328.118 Q177.246 332.702 171.436 332.702 Q165.626 332.702 162.547 328.118 Q159.491 323.512 159.491 314.785 Q159.491 306.035 162.547 301.452 Q165.626 296.845 171.436 296.845 Z\" fill=\"#000000\" fill-rule=\"nonzero\" fill-opacity=\"1\" /><path clip-path=\"url(#clip230)\" d=\"M45.7664 769.603 Q39.4007 769.603 35.8996 772.244 Q32.3984 774.854 32.3984 779.597 Q32.3984 784.307 35.8996 786.949 Q39.4007 789.559 45.7664 789.559 Q52.1003 789.559 55.6014 786.949 Q59.1026 784.307 59.1026 779.597 Q59.1026 774.854 55.6014 772.244 Q52.1003 769.603 45.7664 769.603 M59.58 763.746 Q68.683 763.746 73.1071 767.788 Q77.5631 771.831 77.5631 780.17 Q77.5631 783.257 77.0857 785.994 Q76.6401 788.732 75.6852 791.31 L69.9879 791.31 Q71.3884 788.732 72.0568 786.217 Q72.7252 783.703 72.7252 781.093 Q72.7252 775.332 69.7015 772.467 Q66.7096 769.603 60.6303 769.603 L57.7339 769.603 Q60.885 771.417 62.4446 774.25 Q64.0042 777.082 64.0042 781.029 Q64.0042 787.586 59.0071 791.596 Q54.01 795.607 45.7664 795.607 Q37.491 795.607 32.4939 791.596 Q27.4968 787.586 27.4968 781.029 Q27.4968 777.082 29.0564 774.25 Q30.616 771.417 33.7671 769.603 L28.3562 769.603 L28.3562 763.746 L59.58 763.746 Z\" fill=\"#000000\" fill-rule=\"nonzero\" fill-opacity=\"1\" /><path clip-path=\"url(#clip230)\" d=\"M14.5426 737.615 Q21.8632 741.88 29.0246 743.949 Q36.186 746.018 43.5384 746.018 Q50.8908 746.018 58.1159 743.949 Q65.3091 741.848 72.5979 737.615 L72.5979 742.708 Q65.1182 747.482 57.8931 749.869 Q50.668 752.224 43.5384 752.224 Q36.4406 752.224 29.2474 749.869 Q22.0542 747.514 14.5426 742.708 L14.5426 737.615 Z\" fill=\"#000000\" fill-rule=\"nonzero\" fill-opacity=\"1\" /><path clip-path=\"url(#clip230)\" d=\"M14.479 726.475 L14.479 720.587 L43.7294 720.587 L28.3562 703.113 L28.3562 695.633 L45.0344 714.539 L64.0042 694.837 L64.0042 702.476 L46.5939 720.587 L64.0042 720.587 L64.0042 726.475 L14.479 726.475 Z\" fill=\"#000000\" fill-rule=\"nonzero\" fill-opacity=\"1\" /><path clip-path=\"url(#clip230)\" d=\"M14.5426 689.427 L14.5426 684.334 Q22.0542 679.56 29.2474 677.204 Q36.4406 674.817 43.5384 674.817 Q50.668 674.817 57.8931 677.204 Q65.1182 679.56 72.5979 684.334 L72.5979 689.427 Q65.3091 685.193 58.1159 683.125 Q50.8908 681.024 43.5384 681.024 Q36.186 681.024 29.0246 683.125 Q21.8632 685.193 14.5426 689.427 Z\" fill=\"#000000\" fill-rule=\"nonzero\" fill-opacity=\"1\" /><polyline clip-path=\"url(#clip232)\" style=\"stroke:#009af9; stroke-linecap:round; stroke-linejoin:round; stroke-width:4; stroke-opacity:1; fill:none\" points=\"279.759,1384.24 281.771,1311.86 283.784,1286.54 285.797,1267.77 287.809,1252.14 289.822,1238.59 291.834,1226.6 293.847,1215.82 295.86,1205.96 297.872,1196.84 299.885,1188.31 301.898,1180.28 303.91,1172.67 305.923,1165.41 307.935,1158.48 309.948,1151.83 311.961,1145.43 313.973,1139.27 315.986,1133.32 317.998,1127.57 320.011,1122 322.024,1116.59 324.036,1111.34 326.049,1106.23 328.062,1101.25 330.074,1096.4 332.087,1091.66 334.099,1087.03 336.112,1082.51 338.125,1078.08 340.137,1073.74 342.15,1069.49 344.163,1065.31 346.175,1061.22 348.188,1057.2 350.2,1053.25 352.213,1049.37 354.226,1045.55 356.238,1041.79 358.251,1038.09 360.263,1034.45 362.276,1030.86 364.289,1027.33 366.301,1023.84 368.314,1020.41 370.327,1017.02 372.339,1013.67 374.352,1010.37 376.364,1007.11 378.377,1003.89 380.39,1000.72 382.402,997.574 384.415,994.47 386.428,991.402 388.44,988.368 390.453,985.367 392.465,982.4 394.478,979.464 396.491,976.559 398.503,973.684 400.516,970.838 402.528,968.02 404.541,965.23 406.554,962.467 408.566,959.73 410.579,957.019 412.592,954.332 414.604,951.67 416.617,949.032 418.629,946.417 420.642,943.825 422.655,941.255 424.667,938.706 426.68,936.179 428.692,933.672 430.705,931.186 432.718,928.719 434.73,926.272 436.743,923.844 438.756,921.434 440.768,919.043 442.781,916.67 444.793,914.314 446.806,911.976 448.819,909.654 450.831,907.349 452.844,905.06 454.857,902.787 456.869,900.529 458.882,898.287 460.894,896.06 462.907,893.848 464.92,891.65 466.932,889.467 468.945,887.298 470.957,885.142 472.97,883 474.983,880.872 476.995,878.757 479.008,876.654 481.021,874.564 483.033,872.487 485.046,870.422 487.058,868.369 489.071,866.328 491.084,864.299 493.096,862.281 495.109,860.275 497.122,858.28 499.134,856.296 501.147,854.323 503.159,852.361 505.172,850.409 507.185,848.468 509.197,846.537 511.21,844.616 513.222,842.705 515.235,840.804 517.248,838.912 519.26,837.03 521.273,835.158 523.286,833.295 525.298,831.441 527.311,829.596 529.323,827.761 531.336,825.934 533.349,824.116 535.361,822.306 537.374,820.505 539.387,818.713 541.399,816.928 543.412,815.152 545.424,813.384 547.437,811.624 549.45,809.872 551.462,808.128 553.475,806.391 555.487,804.662 557.5,802.941 559.513,801.227 561.525,799.521 563.538,797.821 565.551,796.129 567.563,794.444 569.576,792.767 571.588,791.096 573.601,789.432 575.614,787.774 577.626,786.124 579.639,784.48 581.652,782.843 583.664,781.212 585.677,779.588 587.689,777.97 589.702,776.359 591.715,774.753 593.727,773.154 595.74,771.561 597.752,769.974 599.765,768.393 601.778,766.818 603.79,765.249 605.803,763.686 607.816,762.129 609.828,760.577 611.841,759.031 613.853,757.49 615.866,755.955 617.879,754.426 619.891,752.902 621.904,751.383 623.917,749.87 625.929,748.362 627.942,746.859 629.954,745.362 631.967,743.869 633.98,742.382 635.992,740.899 638.005,739.422 640.017,737.95 642.03,736.482 644.043,735.02 646.055,733.562 648.068,732.109 650.081,730.661 652.093,729.218 654.106,727.779 656.118,726.345 658.131,724.915 660.144,723.49 662.156,722.07 664.169,720.654 666.181,719.242 668.194,717.835 670.207,716.432 672.219,715.033 674.232,713.639 676.245,712.249 678.257,710.863 680.27,709.482 682.282,708.104 684.295,706.731 686.308,705.362 688.32,703.997 690.333,702.636 692.346,701.278 694.358,699.925 696.371,698.576 698.383,697.231 700.396,695.889 702.409,694.551 704.421,693.218 706.434,691.888 708.446,690.561 710.459,689.239 712.472,687.92 714.484,686.604 716.497,685.293 718.51,683.985 720.522,682.681 722.535,681.38 724.547,680.082 726.56,678.789 728.573,677.498 730.585,676.212 732.598,674.928 734.611,673.648 736.623,672.372 738.636,671.098 740.648,669.828 742.661,668.562 744.674,667.299 746.686,666.039 748.699,664.782 750.711,663.528 752.724,662.278 754.737,661.031 756.749,659.787 758.762,658.546 760.775,657.308 762.787,656.074 764.8,654.842 766.812,653.614 768.825,652.388 770.838,651.166 772.85,649.946 774.863,648.73 776.876,647.517 778.888,646.306 780.901,645.098 782.913,643.894 784.926,642.692 786.939,641.493 788.951,640.297 790.964,639.103 792.976,637.913 794.989,636.725 797.002,635.54 799.014,634.358 801.027,633.179 803.04,632.002 805.052,630.828 807.065,629.657 809.077,628.488 811.09,627.322 813.103,626.159 815.115,624.998 817.128,623.84 819.141,622.685 821.153,621.532 823.166,620.381 825.178,619.233 827.191,618.088 829.204,616.945 831.216,615.805 833.229,614.668 835.241,613.532 837.254,612.399 839.267,611.269 841.279,610.141 843.292,609.016 845.305,607.893 847.317,606.772 849.33,605.654 851.342,604.538 853.355,603.424 855.368,602.313 857.38,601.204 859.393,600.097 861.406,598.993 863.418,597.891 865.431,596.791 867.443,595.694 869.456,594.598 871.469,593.505 873.481,592.415 875.494,591.326 877.506,590.24 879.519,589.155 881.532,588.073 883.544,586.994 885.557,585.916 887.57,584.84 889.582,583.767 891.595,582.696 893.607,581.627 895.62,580.559 897.633,579.494 899.645,578.432 901.658,577.371 903.67,576.312 905.683,575.255 907.696,574.2 909.708,573.148 911.721,572.097 913.734,571.048 915.746,570.002 917.759,568.957 919.771,567.914 921.784,566.874 923.797,565.835 925.809,564.798 927.822,563.763 929.835,562.73 931.847,561.699 933.86,560.67 935.872,559.642 937.885,558.617 939.898,557.594 941.91,556.572 943.923,555.552 945.935,554.534 947.948,553.518 949.961,552.504 951.973,551.491 953.986,550.481 955.999,549.472 958.011,548.465 960.024,547.46 962.036,546.456 964.049,545.455 966.062,544.455 968.074,543.456 970.087,542.46 972.1,541.465 974.112,540.472 976.125,539.481 978.137,538.492 980.15,537.504 982.163,536.518 984.175,535.533 986.188,534.551 988.2,533.57 990.213,532.59 992.226,531.613 994.238,530.637 996.251,529.662 998.264,528.689 1000.28,527.718 1002.29,526.749 1004.3,525.781 1006.31,524.815 1008.33,523.85 1010.34,522.887 1012.35,521.925 1014.36,520.965 1016.38,520.007 1018.39,519.05 1020.4,518.095 1022.41,517.142 1024.43,516.189 1026.44,515.239 1028.45,514.29 1030.47,513.342 1032.48,512.396 1034.49,511.452 1036.5,510.509 1038.52,509.568 1040.53,508.628 1042.54,507.689 1044.55,506.752 1046.57,505.817 1048.58,504.883 1050.59,503.95 1052.6,503.019 1054.62,502.089 1056.63,501.161 1058.64,500.234 1060.65,499.309 1062.67,498.385 1064.68,497.463 1066.69,496.542 1068.71,495.622 1070.72,494.704 1072.73,493.787 1074.74,492.871 1076.76,491.957 1078.77,491.045 1080.78,490.133 1082.79,489.223 1084.81,488.315 1086.82,487.408 1088.83,486.502 1090.84,485.597 1092.86,484.694 1094.87,483.792 1096.88,482.892 1098.89,481.993 1100.91,481.095 1102.92,480.198 1104.93,479.303 1106.94,478.409 1108.96,477.517 1110.97,476.625 1112.98,475.735 1115,474.847 1117.01,473.959 1119.02,473.073 1121.03,472.188 1123.05,471.305 1125.06,470.422 1127.07,469.541 1129.08,468.662 1131.1,467.783 1133.11,466.906 1135.12,466.03 1137.13,465.155 1139.15,464.281 1141.16,463.409 1143.17,462.538 1145.18,461.668 1147.2,460.799 1149.21,459.931 1151.22,459.065 1153.24,458.2 1155.25,457.336 1157.26,456.473 1159.27,455.612 1161.29,454.751 1163.3,453.892 1165.31,453.034 1167.32,452.177 1169.34,451.321 1171.35,450.467 1173.36,449.614 1175.37,448.761 1177.39,447.91 1179.4,447.06 1181.41,446.212 1183.42,445.364 1185.44,444.517 1187.45,443.672 1189.46,442.828 1191.47,441.985 1193.49,441.142 1195.5,440.302 1197.51,439.462 1199.53,438.623 1201.54,437.785 1203.55,436.949 1205.56,436.113 1207.58,435.279 1209.59,434.446 1211.6,433.614 1213.61,432.783 1215.63,431.953 1217.64,431.124 1219.65,430.296 1221.66,429.469 1223.68,428.643 1225.69,427.818 1227.7,426.995 1229.71,426.172 1231.73,425.351 1233.74,424.53 1235.75,423.711 1237.77,422.892 1239.78,422.075 1241.79,421.258 1243.8,420.443 1245.82,419.629 1247.83,418.815 1249.84,418.003 1251.85,417.192 1253.87,416.381 1255.88,415.572 1257.89,414.764 1259.9,413.957 1261.92,413.15 1263.93,412.345 1265.94,411.541 1267.95,410.737 1269.97,409.935 1271.98,409.134 1273.99,408.333 1276,407.534 1278.02,406.735 1280.03,405.938 1282.04,405.141 1284.06,404.346 1286.07,403.551 1288.08,402.757 1290.09,401.965 1292.11,401.173 1294.12,400.382 1296.13,399.592 1298.14,398.803 1300.16,398.015 1302.17,397.228 1304.18,396.442 1306.19,395.657 1308.21,394.872 1310.22,394.089 1312.23,393.307 1314.24,392.525 1316.26,391.744 1318.27,390.965 1320.28,390.186 1322.3,389.408 1324.31,388.631 1326.32,387.855 1328.33,387.08 1330.35,386.305 1332.36,385.532 1334.37,384.759 1336.38,383.988 1338.4,383.217 1340.41,382.447 1342.42,381.678 1344.43,380.91 1346.45,380.142 1348.46,379.376 1350.47,378.61 1352.48,377.846 1354.5,377.082 1356.51,376.319 1358.52,375.557 1360.53,374.796 1362.55,374.035 1364.56,373.276 1366.57,372.517 1368.59,371.759 1370.6,371.002 1372.61,370.246 1374.62,369.49 1376.64,368.736 1378.65,367.982 1380.66,367.229 1382.67,366.477 1384.69,365.726 1386.7,364.976 1388.71,364.226 1390.72,363.477 1392.74,362.729 1394.75,361.982 1396.76,361.236 1398.77,360.49 1400.79,359.745 1402.8,359.002 1404.81,358.258 1406.83,357.516 1408.84,356.775 1410.85,356.034 1412.86,355.294 1414.88,354.555 1416.89,353.816 1418.9,353.079 1420.91,352.342 1422.93,351.606 1424.94,350.871 1426.95,350.136 1428.96,349.403 1430.98,348.67 1432.99,347.937 1435,347.206 1437.01,346.475 1439.03,345.746 1441.04,345.016 1443.05,344.288 1445.06,343.56 1447.08,342.834 1449.09,342.108 1451.1,341.382 1453.12,340.658 1455.13,339.934 1457.14,339.211 1459.15,338.488 1461.17,337.767 1463.18,337.046 1465.19,336.326 1467.2,335.606 1469.22,334.888 1471.23,334.17 1473.24,333.452 1475.25,332.736 1477.27,332.02 1479.28,331.305 1481.29,330.591 1483.3,329.877 1485.32,329.164 1487.33,328.452 1489.34,327.741 1491.36,327.03 1493.37,326.32 1495.38,325.61 1497.39,324.902 1499.41,324.194 1501.42,323.487 1503.43,322.78 1505.44,322.074 1507.46,321.369 1509.47,320.665 1511.48,319.961 1513.49,319.258 1515.51,318.555 1517.52,317.854 1519.53,317.153 1521.54,316.452 1523.56,315.753 1525.57,315.054 1527.58,314.355 1529.59,313.658 1531.61,312.961 1533.62,312.265 1535.63,311.569 1537.65,310.874 1539.66,310.18 1541.67,309.486 1543.68,308.793 1545.7,308.101 1547.71,307.409 1549.72,306.718 1551.73,306.028 1553.75,305.338 1555.76,304.649 1557.77,303.961 1559.78,303.273 1561.8,302.586 1563.81,301.9 1565.82,301.214 1567.83,300.529 1569.85,299.845 1571.86,299.161 1573.87,298.478 1575.89,297.795 1577.9,297.113 1579.91,296.432 1581.92,295.751 1583.94,295.071 1585.95,294.392 1587.96,293.713 1589.97,293.035 1591.99,292.358 1594,291.681 1596.01,291.004 1598.02,290.329 1600.04,289.654 1602.05,288.979 1604.06,288.306 1606.07,287.633 1608.09,286.96 1610.1,286.288 1612.11,285.617 1614.12,284.946 1616.14,284.276 1618.15,283.606 1620.16,282.937 1622.18,282.269 1624.19,281.601 1626.2,280.934 1628.21,280.268 1630.23,279.602 1632.24,278.937 1634.25,278.272 1636.26,277.608 1638.28,276.944 1640.29,276.281 1642.3,275.619 1644.31,274.957 1646.33,274.296 1648.34,273.635 1650.35,272.975 1652.36,272.316 1654.38,271.657 1656.39,270.999 1658.4,270.341 1660.42,269.684 1662.43,269.028 1664.44,268.372 1666.45,267.716 1668.47,267.061 1670.48,266.407 1672.49,265.753 1674.5,265.1 1676.52,264.448 1678.53,263.796 1680.54,263.144 1682.55,262.493 1684.57,261.843 1686.58,261.193 1688.59,260.544 1690.6,259.896 1692.62,259.247 1694.63,258.6 1696.64,257.953 1698.65,257.307 1700.67,256.661 1702.68,256.015 1704.69,255.371 1706.71,254.726 1708.72,254.083 1710.73,253.439 1712.74,252.797 1714.76,252.155 1716.77,251.513 1718.78,250.872 1720.79,250.232 1722.81,249.592 1724.82,248.953 1726.83,248.314 1728.84,247.676 1730.86,247.038 1732.87,246.401 1734.88,245.764 1736.89,245.128 1738.91,244.492 1740.92,243.857 1742.93,243.222 1744.95,242.588 1746.96,241.955 1748.97,241.322 1750.98,240.689 1753,240.057 1755.01,239.426 1757.02,238.795 1759.03,238.164 1761.05,237.534 1763.06,236.905 1765.07,236.276 1767.08,235.648 1769.1,235.02 1771.11,234.392 1773.12,233.765 1775.13,233.139 1777.15,232.513 1779.16,231.888 1781.17,231.263 1783.18,230.639 1785.2,230.015 1787.21,229.392 1789.22,228.769 1791.24,228.146 1793.25,227.525 1795.26,226.903 1797.27,226.282 1799.29,225.662 1801.3,225.042 1803.31,224.423 1805.32,223.804 1807.34,223.186 1809.35,222.568 1811.36,221.95 1813.37,221.333 1815.39,220.717 1817.4,220.101 1819.41,219.485 1821.42,218.87 1823.44,218.256 1825.45,217.642 1827.46,217.028 1829.48,216.415 1831.49,215.803 1833.5,215.191 1835.51,214.579 1837.53,213.968 1839.54,213.357 1841.55,212.747 1843.56,212.137 1845.58,211.528 1847.59,210.919 1849.6,210.311 1851.61,209.703 1853.63,209.095 1855.64,208.489 1857.65,207.882 1859.66,207.276 1861.68,206.671 1863.69,206.065 1865.7,205.461 1867.71,204.857 1869.73,204.253 1871.74,203.65 1873.75,203.047 1875.77,202.445 1877.78,201.843 1879.79,201.241 1881.8,200.64 1883.82,200.04 1885.83,199.44 1887.84,198.84 1889.85,198.241 1891.87,197.642 1893.88,197.044 1895.89,196.446 1897.9,195.849 1899.92,195.252 1901.93,194.656 1903.94,194.06 1905.95,193.464 1907.97,192.869 1909.98,192.274 1911.99,191.68 1914.01,191.086 1916.02,190.493 1918.03,189.9 1920.04,189.307 1922.06,188.715 1924.07,188.124 1926.08,187.532 1928.09,186.942 1930.11,186.351 1932.12,185.761 1934.13,185.172 1936.14,184.583 1938.16,183.994 1940.17,183.406 1942.18,182.818 1944.19,182.231 1946.21,181.644 1948.22,181.058 1950.23,180.472 1952.24,179.886 1954.26,179.301 1956.27,178.716 1958.28,178.132 1960.3,177.548 1962.31,176.964 1964.32,176.381 1966.33,175.798 1968.35,175.216 1970.36,174.634 1972.37,174.053 1974.38,173.472 1976.4,172.891 1978.41,172.311 1980.42,171.731 1982.43,171.152 1984.45,170.573 1986.46,169.994 1988.47,169.416 1990.48,168.838 1992.5,168.261 1994.51,167.684 1996.52,167.108 1998.54,166.532 2000.55,165.956 2002.56,165.381 2004.57,164.806 2006.59,164.231 2008.6,163.657 2010.61,163.083 2012.62,162.51 2014.64,161.937 2016.65,161.365 2018.66,160.793 2020.67,160.221 2022.69,159.65 2024.7,159.079 2026.71,158.508 2028.72,157.938 2030.74,157.369 2032.75,156.799 2034.76,156.23 2036.77,155.662 2038.79,155.094 2040.8,154.526 2042.81,153.959 2044.83,153.392 2046.84,152.825 2048.85,152.259 2050.86,151.693 2052.88,151.128 2054.89,150.562 2056.9,149.998 2058.91,149.434 2060.93,148.87 2062.94,148.306 2064.95,147.743 2066.96,147.18 2068.98,146.618 2070.99,146.056 2073,145.494 2075.01,144.933 2077.03,144.372 2079.04,143.812 2081.05,143.252 2083.07,142.692 2085.08,142.133 2087.09,141.574 2089.1,141.015 2091.12,140.457 2093.13,139.899 2095.14,139.341 2097.15,138.784 2099.17,138.228 2101.18,137.671 2103.19,137.115 2105.2,136.559 2107.22,136.004 2109.23,135.449 2111.24,134.895 2113.25,134.341 2115.27,133.787 2117.28,133.233 2119.29,132.68 2121.3,132.128 2123.32,131.575 2125.33,131.023 2127.34,130.472 2129.36,129.92 2131.37,129.369 2133.38,128.819 2135.39,128.269 2137.41,127.719 2139.42,127.169 2141.43,126.62 2143.44,126.071 2145.46,125.523 2147.47,124.975 2149.48,124.427 2151.49,123.88 2153.51,123.333 2155.52,122.786 2157.53,122.24 2159.54,121.694 2161.56,121.149 2163.57,120.603 2165.58,120.058 2167.59,119.514 2169.61,118.97 2171.62,118.426 2173.63,117.882 2175.65,117.339 2177.66,116.796 2179.67,116.254 2181.68,115.712 2183.7,115.17 2185.71,114.629 2187.72,114.088 2189.73,113.547 2191.75,113.006 2193.76,112.466 2195.77,111.927 2197.78,111.387 2199.8,110.848 2201.81,110.31 2203.82,109.771 2205.83,109.233 2207.85,108.696 2209.86,108.158 2211.87,107.621 2213.89,107.085 2215.9,106.548 2217.91,106.012 2219.92,105.477 2221.94,104.941 2223.95,104.406 2225.96,103.872 2227.97,103.337 2229.99,102.803 2232,102.27 2234.01,101.736 2236.02,101.203 2238.04,100.67 2240.05,100.138 2242.06,99.6061 2244.07,99.0744 2246.09,98.543 2248.1,98.012 2250.11,97.4813 2252.12,96.9509 2254.14,96.4208 2256.15,95.891 2258.16,95.3616 2260.18,94.8325 2262.19,94.3037 2264.2,93.7753 2266.21,93.2471 2268.23,92.7193 2270.24,92.1918 2272.25,91.6647 2274.26,91.1378 2276.28,90.6113 2278.29,90.0851 2280.3,89.5592 2282.31,89.0336 2284.33,88.5083 2286.34,87.9834 2288.35,87.4587 2290.36,86.9344 2292.38,86.4104 \"/>\n",
       "<polyline clip-path=\"url(#clip232)\" style=\"stroke:#ff0000; stroke-linecap:round; stroke-linejoin:round; stroke-width:4; stroke-opacity:1; fill:none\" stroke-dasharray=\"16, 10\" points=\"279.759,1382.66 281.771,1312.79 283.784,1286.51 285.797,1267.36 287.809,1251.74 289.822,1238.33 291.834,1226.44 293.847,1215.69 295.86,1205.83 297.872,1196.68 299.885,1188.12 301.898,1180.06 303.91,1172.42 305.923,1165.16 307.935,1158.23 309.948,1151.59 311.961,1145.21 313.973,1139.06 315.986,1133.13 317.998,1127.39 320.011,1121.83 322.024,1116.44 324.036,1111.19 326.049,1106.09 328.062,1101.12 330.074,1096.27 332.087,1091.54 334.099,1086.91 336.112,1082.39 338.125,1077.96 340.137,1073.62 342.15,1069.37 344.163,1065.2 346.175,1061.11 348.188,1057.09 350.2,1053.14 352.213,1049.26 354.226,1045.44 356.238,1041.69 358.251,1037.99 360.263,1034.35 362.276,1030.76 364.289,1027.23 366.301,1023.74 368.314,1020.31 370.327,1016.92 372.339,1013.57 374.352,1010.27 376.364,1007.01 378.377,1003.79 380.39,1000.61 382.402,997.472 384.415,994.367 386.428,991.298 388.44,988.263 390.453,985.262 392.465,982.293 394.478,979.356 396.491,976.45 398.503,973.573 400.516,970.726 402.528,967.907 404.541,965.116 406.554,962.351 408.566,959.613 410.579,956.9 412.592,954.212 414.604,951.549 416.617,948.909 418.629,946.292 420.642,943.698 422.655,941.126 424.667,938.576 426.68,936.047 428.692,933.539 430.705,931.051 432.718,928.583 434.73,926.134 436.743,923.704 438.756,921.293 440.768,918.9 442.781,916.525 444.793,914.167 446.806,911.827 448.819,909.503 450.831,907.196 452.844,904.906 454.857,902.631 456.869,900.372 458.882,898.128 460.894,895.899 462.907,893.685 464.92,891.486 466.932,889.3 468.945,887.129 470.957,884.972 472.97,882.828 474.983,880.698 476.995,878.581 479.008,876.477 481.021,874.385 483.033,872.306 485.046,870.239 487.058,868.185 489.071,866.142 491.084,864.111 493.096,862.092 495.109,860.084 497.122,858.087 499.134,856.102 501.147,854.127 503.159,852.163 505.172,850.209 507.185,848.266 509.197,846.334 511.21,844.411 513.222,842.499 515.235,840.596 517.248,838.703 519.26,836.819 521.273,834.946 523.286,833.081 525.298,831.226 527.311,829.38 529.323,827.542 531.336,825.714 533.349,823.894 535.361,822.083 537.374,820.281 539.387,818.487 541.399,816.701 543.412,814.924 545.424,813.154 547.437,811.393 549.45,809.64 551.462,807.894 553.475,806.156 555.487,804.426 557.5,802.704 559.513,800.988 561.525,799.281 563.538,797.58 565.551,795.887 567.563,794.201 569.576,792.522 571.588,790.85 573.601,789.185 575.614,787.526 577.626,785.875 579.639,784.23 581.652,782.592 583.664,780.96 585.677,779.335 587.689,777.716 589.702,776.103 591.715,774.497 593.727,772.897 595.74,771.303 597.752,769.715 599.765,768.134 601.778,766.558 603.79,764.988 605.803,763.424 607.816,761.865 609.828,760.313 611.841,758.766 613.853,757.224 615.866,755.689 617.879,754.158 619.891,752.634 621.904,751.114 623.917,749.6 625.929,748.091 627.942,746.588 629.954,745.09 631.967,743.597 633.98,742.109 635.992,740.626 638.005,739.148 640.017,737.675 642.03,736.207 644.043,734.744 646.055,733.285 648.068,731.832 650.081,730.383 652.093,728.939 654.106,727.5 656.118,726.065 658.131,724.635 660.144,723.209 662.156,721.788 664.169,720.372 666.181,718.96 668.194,717.552 670.207,716.149 672.219,714.75 674.232,713.355 676.245,711.964 678.257,710.578 680.27,709.196 682.282,707.818 684.295,706.445 686.308,705.075 688.32,703.709 690.333,702.348 692.346,700.99 694.358,699.637 696.371,698.287 698.383,696.941 700.396,695.599 702.409,694.261 704.421,692.927 706.434,691.597 708.446,690.27 710.459,688.947 712.472,687.628 714.484,686.312 716.497,685 718.51,683.692 720.522,682.388 722.535,681.086 724.547,679.789 726.56,678.495 728.573,677.204 730.585,675.917 732.598,674.634 734.611,673.353 736.623,672.076 738.636,670.803 740.648,669.533 742.661,668.266 744.674,667.003 746.686,665.742 748.699,664.485 750.711,663.232 752.724,661.981 754.737,660.734 756.749,659.49 758.762,658.249 760.775,657.011 762.787,655.776 764.8,654.544 766.812,653.316 768.825,652.09 770.838,650.867 772.85,649.648 774.863,648.431 776.876,647.218 778.888,646.007 780.901,644.799 782.913,643.594 784.926,642.392 786.939,641.193 788.951,639.997 790.964,638.804 792.976,637.613 794.989,636.425 797.002,635.24 799.014,634.058 801.027,632.879 803.04,631.702 805.052,630.528 807.065,629.356 809.077,628.188 811.09,627.022 813.103,625.858 815.115,624.698 817.128,623.539 819.141,622.384 821.153,621.231 823.166,620.081 825.178,618.933 827.191,617.787 829.204,616.645 831.216,615.504 833.229,614.367 835.241,613.231 837.254,612.099 839.267,610.968 841.279,609.84 843.292,608.715 845.305,607.592 847.317,606.471 849.33,605.353 851.342,604.237 853.355,603.123 855.368,602.012 857.38,600.903 859.393,599.796 861.406,598.692 863.418,597.59 865.431,596.49 867.443,595.393 869.456,594.298 871.469,593.205 873.481,592.114 875.494,591.025 877.506,589.939 879.519,588.855 881.532,587.773 883.544,586.693 885.557,585.615 887.57,584.54 889.582,583.467 891.595,582.395 893.607,581.326 895.62,580.259 897.633,579.194 899.645,578.131 901.658,577.071 903.67,576.012 905.683,574.955 907.696,573.901 909.708,572.848 911.721,571.797 913.734,570.749 915.746,569.702 917.759,568.658 919.771,567.615 921.784,566.574 923.797,565.536 925.809,564.499 927.822,563.464 929.835,562.431 931.847,561.4 933.86,560.371 935.872,559.344 937.885,558.319 939.898,557.295 941.91,556.274 943.923,555.254 945.935,554.236 947.948,553.22 949.961,552.206 951.973,551.194 953.986,550.183 955.999,549.174 958.011,548.168 960.024,547.162 962.036,546.159 964.049,545.158 966.062,544.158 968.074,543.16 970.087,542.163 972.1,541.169 974.112,540.176 976.125,539.185 978.137,538.196 980.15,537.208 982.163,536.222 984.175,535.238 986.188,534.255 988.2,533.274 990.213,532.295 992.226,531.318 994.238,530.342 996.251,529.367 998.264,528.395 1000.28,527.424 1002.29,526.454 1004.3,525.487 1006.31,524.521 1008.33,523.556 1010.34,522.593 1012.35,521.632 1014.36,520.672 1016.38,519.714 1018.39,518.757 1020.4,517.802 1022.41,516.849 1024.43,515.897 1026.44,514.946 1028.45,513.997 1030.47,513.05 1032.48,512.104 1034.49,511.16 1036.5,510.217 1038.52,509.276 1040.53,508.336 1042.54,507.398 1044.55,506.461 1046.57,505.526 1048.58,504.592 1050.59,503.66 1052.6,502.729 1054.62,501.799 1056.63,500.871 1058.64,499.944 1060.65,499.019 1062.67,498.096 1064.68,497.173 1066.69,496.252 1068.71,495.333 1070.72,494.415 1072.73,493.498 1074.74,492.583 1076.76,491.669 1078.77,490.757 1080.78,489.845 1082.79,488.936 1084.81,488.027 1086.82,487.12 1088.83,486.215 1090.84,485.31 1092.86,484.407 1094.87,483.506 1096.88,482.605 1098.89,481.706 1100.91,480.809 1102.92,479.912 1104.93,479.017 1106.94,478.124 1108.96,477.231 1110.97,476.34 1112.98,475.45 1115,474.562 1117.01,473.675 1119.02,472.789 1121.03,471.904 1123.05,471.021 1125.06,470.138 1127.07,469.258 1129.08,468.378 1131.1,467.5 1133.11,466.622 1135.12,465.747 1137.13,464.872 1139.15,463.998 1141.16,463.126 1143.17,462.255 1145.18,461.386 1147.2,460.517 1149.21,459.65 1151.22,458.783 1153.24,457.919 1155.25,457.055 1157.26,456.192 1159.27,455.331 1161.29,454.471 1163.3,453.612 1165.31,452.754 1167.32,451.897 1169.34,451.042 1171.35,450.187 1173.36,449.334 1175.37,448.482 1177.39,447.631 1179.4,446.781 1181.41,445.933 1183.42,445.085 1185.44,444.239 1187.45,443.394 1189.46,442.55 1191.47,441.707 1193.49,440.865 1195.5,440.024 1197.51,439.185 1199.53,438.346 1201.54,437.509 1203.55,436.672 1205.56,435.837 1207.58,435.003 1209.59,434.17 1211.6,433.338 1213.61,432.507 1215.63,431.677 1217.64,430.848 1219.65,430.021 1221.66,429.194 1223.68,428.369 1225.69,427.544 1227.7,426.721 1229.71,425.898 1231.73,425.077 1233.74,424.256 1235.75,423.437 1237.77,422.619 1239.78,421.802 1241.79,420.985 1243.8,420.17 1245.82,419.356 1247.83,418.543 1249.84,417.731 1251.85,416.92 1253.87,416.11 1255.88,415.301 1257.89,414.492 1259.9,413.685 1261.92,412.879 1263.93,412.074 1265.94,411.27 1267.95,410.467 1269.97,409.665 1271.98,408.863 1273.99,408.063 1276,407.264 1278.02,406.466 1280.03,405.668 1282.04,404.872 1284.06,404.077 1286.07,403.282 1288.08,402.489 1290.09,401.696 1292.11,400.905 1294.12,400.114 1296.13,399.324 1298.14,398.536 1300.16,397.748 1302.17,396.961 1304.18,396.175 1306.19,395.39 1308.21,394.606 1310.22,393.822 1312.23,393.04 1314.24,392.259 1316.26,391.478 1318.27,390.699 1320.28,389.92 1322.3,389.142 1324.31,388.366 1326.32,387.59 1328.33,386.815 1330.35,386.04 1332.36,385.267 1334.37,384.495 1336.38,383.723 1338.4,382.953 1340.41,382.183 1342.42,381.414 1344.43,380.646 1346.45,379.879 1348.46,379.113 1350.47,378.347 1352.48,377.583 1354.5,376.819 1356.51,376.056 1358.52,375.294 1360.53,374.533 1362.55,373.773 1364.56,373.014 1366.57,372.255 1368.59,371.497 1370.6,370.741 1372.61,369.984 1374.62,369.229 1376.64,368.475 1378.65,367.721 1380.66,366.969 1382.67,366.217 1384.69,365.466 1386.7,364.715 1388.71,363.966 1390.72,363.217 1392.74,362.47 1394.75,361.723 1396.76,360.977 1398.77,360.231 1400.79,359.487 1402.8,358.743 1404.81,358 1406.83,357.258 1408.84,356.516 1410.85,355.776 1412.86,355.036 1414.88,354.297 1416.89,353.559 1418.9,352.821 1420.91,352.085 1422.93,351.349 1424.94,350.614 1426.95,349.879 1428.96,349.146 1430.98,348.413 1432.99,347.681 1435,346.95 1437.01,346.219 1439.03,345.49 1441.04,344.761 1443.05,344.032 1445.06,343.305 1447.08,342.578 1449.09,341.852 1451.1,341.127 1453.12,340.403 1455.13,339.679 1457.14,338.956 1459.15,338.234 1461.17,337.512 1463.18,336.792 1465.19,336.072 1467.2,335.352 1469.22,334.634 1471.23,333.916 1473.24,333.199 1475.25,332.483 1477.27,331.767 1479.28,331.052 1481.29,330.338 1483.3,329.624 1485.32,328.912 1487.33,328.2 1489.34,327.488 1491.36,326.778 1493.37,326.068 1495.38,325.359 1497.39,324.65 1499.41,323.942 1501.42,323.235 1503.43,322.529 1505.44,321.823 1507.46,321.118 1509.47,320.414 1511.48,319.71 1513.49,319.007 1515.51,318.305 1517.52,317.603 1519.53,316.902 1521.54,316.202 1523.56,315.503 1525.57,314.804 1527.58,314.106 1529.59,313.408 1531.61,312.711 1533.62,312.015 1535.63,311.32 1537.65,310.625 1539.66,309.931 1541.67,309.237 1543.68,308.545 1545.7,307.852 1547.71,307.161 1549.72,306.47 1551.73,305.78 1553.75,305.09 1555.76,304.402 1557.77,303.713 1559.78,303.026 1561.8,302.339 1563.81,301.653 1565.82,300.967 1567.83,300.282 1569.85,299.598 1571.86,298.914 1573.87,298.231 1575.89,297.548 1577.9,296.867 1579.91,296.186 1581.92,295.505 1583.94,294.825 1585.95,294.146 1587.96,293.467 1589.97,292.789 1591.99,292.112 1594,291.435 1596.01,290.759 1598.02,290.083 1600.04,289.409 1602.05,288.734 1604.06,288.061 1606.07,287.388 1608.09,286.715 1610.1,286.043 1612.11,285.372 1614.12,284.701 1616.14,284.031 1618.15,283.362 1620.16,282.693 1622.18,282.025 1624.19,281.357 1626.2,280.69 1628.21,280.024 1630.23,279.358 1632.24,278.693 1634.25,278.028 1636.26,277.364 1638.28,276.701 1640.29,276.038 1642.3,275.376 1644.31,274.714 1646.33,274.053 1648.34,273.393 1650.35,272.733 1652.36,272.073 1654.38,271.415 1656.39,270.757 1658.4,270.099 1660.42,269.442 1662.43,268.785 1664.44,268.13 1666.45,267.474 1668.47,266.82 1670.48,266.165 1672.49,265.512 1674.5,264.859 1676.52,264.206 1678.53,263.554 1680.54,262.903 1682.55,262.252 1684.57,261.602 1686.58,260.952 1688.59,260.303 1690.6,259.655 1692.62,259.007 1694.63,258.359 1696.64,257.713 1698.65,257.066 1700.67,256.42 1702.68,255.775 1704.69,255.131 1706.71,254.486 1708.72,253.843 1710.73,253.2 1712.74,252.557 1714.76,251.915 1716.77,251.274 1718.78,250.633 1720.79,249.993 1722.81,249.353 1724.82,248.714 1726.83,248.075 1728.84,247.437 1730.86,246.799 1732.87,246.162 1734.88,245.525 1736.89,244.889 1738.91,244.253 1740.92,243.618 1742.93,242.984 1744.95,242.35 1746.96,241.716 1748.97,241.084 1750.98,240.451 1753,239.819 1755.01,239.188 1757.02,238.557 1759.03,237.927 1761.05,237.297 1763.06,236.667 1765.07,236.039 1767.08,235.41 1769.1,234.782 1771.11,234.155 1773.12,233.528 1775.13,232.902 1777.15,232.276 1779.16,231.651 1781.17,231.026 1783.18,230.402 1785.2,229.778 1787.21,229.155 1789.22,228.532 1791.24,227.91 1793.25,227.288 1795.26,226.667 1797.27,226.046 1799.29,225.426 1801.3,224.806 1803.31,224.187 1805.32,223.568 1807.34,222.95 1809.35,222.332 1811.36,221.715 1813.37,221.098 1815.39,220.481 1817.4,219.866 1819.41,219.25 1821.42,218.635 1823.44,218.021 1825.45,217.407 1827.46,216.793 1829.48,216.18 1831.49,215.568 1833.5,214.956 1835.51,214.344 1837.53,213.733 1839.54,213.123 1841.55,212.512 1843.56,211.903 1845.58,211.293 1847.59,210.685 1849.6,210.076 1851.61,209.469 1853.63,208.861 1855.64,208.255 1857.65,207.648 1859.66,207.042 1861.68,206.437 1863.69,205.832 1865.7,205.227 1867.71,204.623 1869.73,204.019 1871.74,203.416 1873.75,202.814 1875.77,202.211 1877.78,201.609 1879.79,201.008 1881.8,200.407 1883.82,199.807 1885.83,199.207 1887.84,198.607 1889.85,198.008 1891.87,197.41 1893.88,196.811 1895.89,196.214 1897.9,195.616 1899.92,195.019 1901.93,194.423 1903.94,193.827 1905.95,193.232 1907.97,192.636 1909.98,192.042 1911.99,191.448 1914.01,190.854 1916.02,190.261 1918.03,189.668 1920.04,189.075 1922.06,188.483 1924.07,187.892 1926.08,187.301 1928.09,186.71 1930.11,186.12 1932.12,185.53 1934.13,184.94 1936.14,184.351 1938.16,183.763 1940.17,183.175 1942.18,182.587 1944.19,182 1946.21,181.413 1948.22,180.826 1950.23,180.24 1952.24,179.655 1954.26,179.07 1956.27,178.485 1958.28,177.901 1960.3,177.317 1962.31,176.733 1964.32,176.15 1966.33,175.568 1968.35,174.985 1970.36,174.404 1972.37,173.822 1974.38,173.241 1976.4,172.661 1978.41,172.081 1980.42,171.501 1982.43,170.922 1984.45,170.343 1986.46,169.764 1988.47,169.186 1990.48,168.608 1992.5,168.031 1994.51,167.454 1996.52,166.878 1998.54,166.302 2000.55,165.726 2002.56,165.151 2004.57,164.576 2006.59,164.002 2008.6,163.428 2010.61,162.854 2012.62,162.281 2014.64,161.708 2016.65,161.135 2018.66,160.563 2020.67,159.992 2022.69,159.42 2024.7,158.85 2026.71,158.279 2028.72,157.709 2030.74,157.139 2032.75,156.57 2034.76,156.001 2036.77,155.433 2038.79,154.865 2040.8,154.297 2042.81,153.73 2044.83,153.163 2046.84,152.596 2048.85,152.03 2050.86,151.464 2052.88,150.899 2054.89,150.334 2056.9,149.769 2058.91,149.205 2060.93,148.641 2062.94,148.078 2064.95,147.515 2066.96,146.952 2068.98,146.39 2070.99,145.828 2073,145.266 2075.01,144.705 2077.03,144.144 2079.04,143.584 2081.05,143.024 2083.07,142.464 2085.08,141.905 2087.09,141.346 2089.1,140.787 2091.12,140.229 2093.13,139.671 2095.14,139.114 2097.15,138.557 2099.17,138 2101.18,137.444 2103.19,136.888 2105.2,136.332 2107.22,135.777 2109.23,135.222 2111.24,134.667 2113.25,134.113 2115.27,133.559 2117.28,133.006 2119.29,132.453 2121.3,131.9 2123.32,131.348 2125.33,130.796 2127.34,130.244 2129.36,129.693 2131.37,129.142 2133.38,128.592 2135.39,128.042 2137.41,127.492 2139.42,126.942 2141.43,126.393 2143.44,125.845 2145.46,125.296 2147.47,124.748 2149.48,124.201 2151.49,123.653 2153.51,123.106 2155.52,122.56 2157.53,122.013 2159.54,121.468 2161.56,120.922 2163.57,120.377 2165.58,119.832 2167.59,119.287 2169.61,118.743 2171.62,118.199 2173.63,117.656 2175.65,117.113 2177.66,116.57 2179.67,116.028 2181.68,115.486 2183.7,114.944 2185.71,114.403 2187.72,113.861 2189.73,113.321 2191.75,112.78 2193.76,112.24 2195.77,111.701 2197.78,111.161 2199.8,110.622 2201.81,110.084 2203.82,109.545 2205.83,109.007 2207.85,108.47 2209.86,107.932 2211.87,107.395 2213.89,106.859 2215.9,106.323 2217.91,105.787 2219.92,105.251 2221.94,104.716 2223.95,104.181 2225.96,103.646 2227.97,103.112 2229.99,102.578 2232,102.044 2234.01,101.511 2236.02,100.978 2238.04,100.445 2240.05,99.9127 2242.06,99.3807 2244.07,98.8491 2246.09,98.3177 2248.1,97.7867 2250.11,97.256 2252.12,96.7256 2254.14,96.1956 2256.15,95.6659 2258.16,95.1365 2260.18,94.6074 2262.19,94.0786 2264.2,93.5502 2266.21,93.0221 2268.23,92.4943 2270.24,91.9668 2272.25,91.4397 2274.26,90.9129 2276.28,90.3863 2278.29,89.8601 2280.3,89.3343 2282.31,88.8087 2284.33,88.2835 2286.34,87.7586 2288.35,87.2339 2290.36,86.7097 2292.38,86.1857 \"/>\n",
       "<path clip-path=\"url(#clip230)\" d=\"M290.493 248.629 L1095.59 248.629 L1095.59 93.1086 L290.493 93.1086  Z\" fill=\"#ffffff\" fill-rule=\"evenodd\" fill-opacity=\"1\"/>\n",
       "<polyline clip-path=\"url(#clip230)\" style=\"stroke:#000000; stroke-linecap:round; stroke-linejoin:round; stroke-width:4; stroke-opacity:1; fill:none\" points=\"290.493,248.629 1095.59,248.629 1095.59,93.1086 290.493,93.1086 290.493,248.629 \"/>\n",
       "<polyline clip-path=\"url(#clip230)\" style=\"stroke:#009af9; stroke-linecap:round; stroke-linejoin:round; stroke-width:4; stroke-opacity:1; fill:none\" points=\"314.197,144.949 456.422,144.949 \"/>\n",
       "<path clip-path=\"url(#clip230)\" d=\"M507.996 130.331 L507.996 135.261 Q505.635 133.062 502.95 131.974 Q500.288 130.886 497.279 130.886 Q491.353 130.886 488.205 134.52 Q485.057 138.132 485.057 144.983 Q485.057 151.812 488.205 155.446 Q491.353 159.057 497.279 159.057 Q500.288 159.057 502.95 157.969 Q505.635 156.881 507.996 154.682 L507.996 159.567 Q505.543 161.233 502.788 162.067 Q500.057 162.9 497.001 162.9 Q489.154 162.9 484.64 158.108 Q480.126 153.293 480.126 144.983 Q480.126 136.65 484.64 131.858 Q489.154 127.044 497.001 127.044 Q500.103 127.044 502.834 127.877 Q505.589 128.687 507.996 130.331 Z\" fill=\"#000000\" fill-rule=\"nonzero\" fill-opacity=\"1\" /><path clip-path=\"url(#clip230)\" d=\"M525.08 139.289 Q521.654 139.289 519.663 141.974 Q517.672 144.636 517.672 149.289 Q517.672 153.942 519.64 156.627 Q521.63 159.289 525.08 159.289 Q528.482 159.289 530.473 156.604 Q532.464 153.918 532.464 149.289 Q532.464 144.682 530.473 141.997 Q528.482 139.289 525.08 139.289 M525.08 135.678 Q530.635 135.678 533.806 139.289 Q536.978 142.9 536.978 149.289 Q536.978 155.655 533.806 159.289 Q530.635 162.9 525.08 162.9 Q519.501 162.9 516.33 159.289 Q513.181 155.655 513.181 149.289 Q513.181 142.9 516.33 139.289 Q519.501 135.678 525.08 135.678 Z\" fill=\"#000000\" fill-rule=\"nonzero\" fill-opacity=\"1\" /><path clip-path=\"url(#clip230)\" d=\"M544.038 126.21 L548.297 126.21 L548.297 162.229 L544.038 162.229 L544.038 126.21 Z\" fill=\"#000000\" fill-rule=\"nonzero\" fill-opacity=\"1\" /><path clip-path=\"url(#clip230)\" d=\"M579.385 148.201 L579.385 150.284 L559.802 150.284 Q560.079 154.682 562.44 156.997 Q564.825 159.289 569.061 159.289 Q571.514 159.289 573.806 158.687 Q576.121 158.085 578.389 156.881 L578.389 160.909 Q576.098 161.881 573.69 162.391 Q571.283 162.9 568.806 162.9 Q562.602 162.9 558.968 159.289 Q555.357 155.678 555.357 149.52 Q555.357 143.155 558.783 139.428 Q562.232 135.678 568.065 135.678 Q573.297 135.678 576.329 139.057 Q579.385 142.414 579.385 148.201 M575.126 146.951 Q575.079 143.456 573.158 141.372 Q571.26 139.289 568.112 139.289 Q564.547 139.289 562.394 141.303 Q560.265 143.317 559.94 146.974 L575.126 146.951 Z\" fill=\"#000000\" fill-rule=\"nonzero\" fill-opacity=\"1\" /><path clip-path=\"url(#clip230)\" d=\"M606.561 141.28 Q608.158 138.409 610.38 137.044 Q612.602 135.678 615.611 135.678 Q619.662 135.678 621.861 138.525 Q624.06 141.349 624.06 146.581 L624.06 162.229 L619.778 162.229 L619.778 146.719 Q619.778 142.993 618.459 141.187 Q617.139 139.382 614.431 139.382 Q611.121 139.382 609.199 141.581 Q607.278 143.78 607.278 147.576 L607.278 162.229 L602.996 162.229 L602.996 146.719 Q602.996 142.969 601.676 141.187 Q600.357 139.382 597.602 139.382 Q594.338 139.382 592.417 141.604 Q590.496 143.803 590.496 147.576 L590.496 162.229 L586.213 162.229 L586.213 136.303 L590.496 136.303 L590.496 140.331 Q591.954 137.946 593.991 136.812 Q596.028 135.678 598.829 135.678 Q601.653 135.678 603.621 137.113 Q605.612 138.548 606.561 141.28 Z\" fill=\"#000000\" fill-rule=\"nonzero\" fill-opacity=\"1\" /><path clip-path=\"url(#clip230)\" d=\"M644.338 149.196 Q639.176 149.196 637.185 150.377 Q635.195 151.557 635.195 154.405 Q635.195 156.673 636.676 158.016 Q638.181 159.335 640.75 159.335 Q644.292 159.335 646.421 156.835 Q648.574 154.312 648.574 150.145 L648.574 149.196 L644.338 149.196 M652.833 147.437 L652.833 162.229 L648.574 162.229 L648.574 158.293 Q647.116 160.655 644.94 161.789 Q642.764 162.9 639.616 162.9 Q635.635 162.9 633.273 160.678 Q630.935 158.432 630.935 154.682 Q630.935 150.307 633.852 148.085 Q636.792 145.863 642.602 145.863 L648.574 145.863 L648.574 145.446 Q648.574 142.507 646.63 140.909 Q644.709 139.289 641.213 139.289 Q638.991 139.289 636.885 139.821 Q634.778 140.354 632.834 141.419 L632.834 137.483 Q635.172 136.581 637.371 136.141 Q639.57 135.678 641.653 135.678 Q647.278 135.678 650.056 138.594 Q652.833 141.511 652.833 147.437 Z\" fill=\"#000000\" fill-rule=\"nonzero\" fill-opacity=\"1\" /><path clip-path=\"url(#clip230)\" d=\"M683.157 146.581 L683.157 162.229 L678.898 162.229 L678.898 146.719 Q678.898 143.039 677.463 141.21 Q676.028 139.382 673.157 139.382 Q669.708 139.382 667.718 141.581 Q665.727 143.78 665.727 147.576 L665.727 162.229 L661.445 162.229 L661.445 136.303 L665.727 136.303 L665.727 140.331 Q667.255 137.993 669.315 136.835 Q671.398 135.678 674.107 135.678 Q678.574 135.678 680.866 138.456 Q683.157 141.21 683.157 146.581 Z\" fill=\"#000000\" fill-rule=\"nonzero\" fill-opacity=\"1\" /><path clip-path=\"url(#clip230)\" d=\"M710.935 128.942 L710.935 136.303 L719.708 136.303 L719.708 139.613 L710.935 139.613 L710.935 153.687 Q710.935 156.858 711.792 157.761 Q712.671 158.664 715.333 158.664 L719.708 158.664 L719.708 162.229 L715.333 162.229 Q710.403 162.229 708.528 160.4 Q706.653 158.548 706.653 153.687 L706.653 139.613 L703.528 139.613 L703.528 136.303 L706.653 136.303 L706.653 128.942 L710.935 128.942 Z\" fill=\"#000000\" fill-rule=\"nonzero\" fill-opacity=\"1\" /><path clip-path=\"url(#clip230)\" d=\"M725.31 136.303 L729.569 136.303 L729.569 162.229 L725.31 162.229 L725.31 136.303 M725.31 126.21 L729.569 126.21 L729.569 131.604 L725.31 131.604 L725.31 126.21 Z\" fill=\"#000000\" fill-rule=\"nonzero\" fill-opacity=\"1\" /><path clip-path=\"url(#clip230)\" d=\"M758.666 141.28 Q760.263 138.409 762.486 137.044 Q764.708 135.678 767.717 135.678 Q771.768 135.678 773.967 138.525 Q776.166 141.349 776.166 146.581 L776.166 162.229 L771.884 162.229 L771.884 146.719 Q771.884 142.993 770.564 141.187 Q769.245 139.382 766.537 139.382 Q763.226 139.382 761.305 141.581 Q759.384 143.78 759.384 147.576 L759.384 162.229 L755.101 162.229 L755.101 146.719 Q755.101 142.969 753.782 141.187 Q752.463 139.382 749.708 139.382 Q746.444 139.382 744.523 141.604 Q742.602 143.803 742.602 147.576 L742.602 162.229 L738.319 162.229 L738.319 136.303 L742.602 136.303 L742.602 140.331 Q744.06 137.946 746.097 136.812 Q748.134 135.678 750.935 135.678 Q753.759 135.678 755.726 137.113 Q757.717 138.548 758.666 141.28 Z\" fill=\"#000000\" fill-rule=\"nonzero\" fill-opacity=\"1\" /><path clip-path=\"url(#clip230)\" d=\"M806.837 148.201 L806.837 150.284 L787.254 150.284 Q787.532 154.682 789.893 156.997 Q792.277 159.289 796.513 159.289 Q798.967 159.289 801.259 158.687 Q803.573 158.085 805.842 156.881 L805.842 160.909 Q803.55 161.881 801.143 162.391 Q798.735 162.9 796.259 162.9 Q790.055 162.9 786.421 159.289 Q782.81 155.678 782.81 149.52 Q782.81 143.155 786.236 139.428 Q789.685 135.678 795.518 135.678 Q800.749 135.678 803.782 139.057 Q806.837 142.414 806.837 148.201 M802.578 146.951 Q802.532 143.456 800.61 141.372 Q798.712 139.289 795.564 139.289 Q791.999 139.289 789.847 141.303 Q787.717 143.317 787.393 146.974 L802.578 146.951 Z\" fill=\"#000000\" fill-rule=\"nonzero\" fill-opacity=\"1\" /><path clip-path=\"url(#clip230)\" d=\"M828.897 136.303 L833.157 136.303 L833.157 162.229 L828.897 162.229 L828.897 136.303 M828.897 126.21 L833.157 126.21 L833.157 131.604 L828.897 131.604 L828.897 126.21 Z\" fill=\"#000000\" fill-rule=\"nonzero\" fill-opacity=\"1\" /><path clip-path=\"url(#clip230)\" d=\"M846.282 128.942 L846.282 136.303 L855.055 136.303 L855.055 139.613 L846.282 139.613 L846.282 153.687 Q846.282 156.858 847.138 157.761 Q848.018 158.664 850.68 158.664 L855.055 158.664 L855.055 162.229 L850.68 162.229 Q845.749 162.229 843.874 160.4 Q841.999 158.548 841.999 153.687 L841.999 139.613 L838.874 139.613 L838.874 136.303 L841.999 136.303 L841.999 128.942 L846.282 128.942 Z\" fill=\"#000000\" fill-rule=\"nonzero\" fill-opacity=\"1\" /><path clip-path=\"url(#clip230)\" d=\"M882.832 148.201 L882.832 150.284 L863.249 150.284 Q863.527 154.682 865.888 156.997 Q868.272 159.289 872.508 159.289 Q874.962 159.289 877.254 158.687 Q879.568 158.085 881.837 156.881 L881.837 160.909 Q879.545 161.881 877.138 162.391 Q874.73 162.9 872.254 162.9 Q866.05 162.9 862.416 159.289 Q858.805 155.678 858.805 149.52 Q858.805 143.155 862.231 139.428 Q865.68 135.678 871.513 135.678 Q876.744 135.678 879.777 139.057 Q882.832 142.414 882.832 148.201 M878.573 146.951 Q878.527 143.456 876.605 141.372 Q874.707 139.289 871.559 139.289 Q867.994 139.289 865.842 141.303 Q863.712 143.317 863.388 146.974 L878.573 146.951 Z\" fill=\"#000000\" fill-rule=\"nonzero\" fill-opacity=\"1\" /><path clip-path=\"url(#clip230)\" d=\"M904.846 140.284 Q904.128 139.868 903.272 139.682 Q902.439 139.474 901.42 139.474 Q897.809 139.474 895.865 141.835 Q893.943 144.173 893.943 148.571 L893.943 162.229 L889.661 162.229 L889.661 136.303 L893.943 136.303 L893.943 140.331 Q895.286 137.969 897.439 136.835 Q899.591 135.678 902.67 135.678 Q903.11 135.678 903.642 135.747 Q904.175 135.794 904.823 135.909 L904.846 140.284 Z\" fill=\"#000000\" fill-rule=\"nonzero\" fill-opacity=\"1\" /><path clip-path=\"url(#clip230)\" d=\"M921.096 149.196 Q915.934 149.196 913.943 150.377 Q911.952 151.557 911.952 154.405 Q911.952 156.673 913.434 158.016 Q914.939 159.335 917.508 159.335 Q921.05 159.335 923.179 156.835 Q925.332 154.312 925.332 150.145 L925.332 149.196 L921.096 149.196 M929.591 147.437 L929.591 162.229 L925.332 162.229 L925.332 158.293 Q923.874 160.655 921.698 161.789 Q919.522 162.9 916.374 162.9 Q912.392 162.9 910.031 160.678 Q907.693 158.432 907.693 154.682 Q907.693 150.307 910.61 148.085 Q913.55 145.863 919.36 145.863 L925.332 145.863 L925.332 145.446 Q925.332 142.507 923.388 140.909 Q921.466 139.289 917.971 139.289 Q915.749 139.289 913.642 139.821 Q911.536 140.354 909.591 141.419 L909.591 137.483 Q911.929 136.581 914.128 136.141 Q916.327 135.678 918.411 135.678 Q924.036 135.678 926.814 138.594 Q929.591 141.511 929.591 147.437 Z\" fill=\"#000000\" fill-rule=\"nonzero\" fill-opacity=\"1\" /><path clip-path=\"url(#clip230)\" d=\"M942.577 128.942 L942.577 136.303 L951.35 136.303 L951.35 139.613 L942.577 139.613 L942.577 153.687 Q942.577 156.858 943.434 157.761 Q944.313 158.664 946.975 158.664 L951.35 158.664 L951.35 162.229 L946.975 162.229 Q942.045 162.229 940.17 160.4 Q938.295 158.548 938.295 153.687 L938.295 139.613 L935.17 139.613 L935.17 136.303 L938.295 136.303 L938.295 128.942 L942.577 128.942 Z\" fill=\"#000000\" fill-rule=\"nonzero\" fill-opacity=\"1\" /><path clip-path=\"url(#clip230)\" d=\"M956.952 136.303 L961.211 136.303 L961.211 162.229 L956.952 162.229 L956.952 136.303 M956.952 126.21 L961.211 126.21 L961.211 131.604 L956.952 131.604 L956.952 126.21 Z\" fill=\"#000000\" fill-rule=\"nonzero\" fill-opacity=\"1\" /><path clip-path=\"url(#clip230)\" d=\"M980.17 139.289 Q976.744 139.289 974.753 141.974 Q972.762 144.636 972.762 149.289 Q972.762 153.942 974.73 156.627 Q976.721 159.289 980.17 159.289 Q983.572 159.289 985.563 156.604 Q987.554 153.918 987.554 149.289 Q987.554 144.682 985.563 141.997 Q983.572 139.289 980.17 139.289 M980.17 135.678 Q985.725 135.678 988.897 139.289 Q992.068 142.9 992.068 149.289 Q992.068 155.655 988.897 159.289 Q985.725 162.9 980.17 162.9 Q974.591 162.9 971.42 159.289 Q968.272 155.655 968.272 149.289 Q968.272 142.9 971.42 139.289 Q974.591 135.678 980.17 135.678 Z\" fill=\"#000000\" fill-rule=\"nonzero\" fill-opacity=\"1\" /><path clip-path=\"url(#clip230)\" d=\"M1020.68 146.581 L1020.68 162.229 L1016.42 162.229 L1016.42 146.719 Q1016.42 143.039 1014.98 141.21 Q1013.55 139.382 1010.68 139.382 Q1007.23 139.382 1005.24 141.581 Q1003.25 143.78 1003.25 147.576 L1003.25 162.229 L998.966 162.229 L998.966 136.303 L1003.25 136.303 L1003.25 140.331 Q1004.78 137.993 1006.84 136.835 Q1008.92 135.678 1011.63 135.678 Q1016.1 135.678 1018.39 138.456 Q1020.68 141.21 1020.68 146.581 Z\" fill=\"#000000\" fill-rule=\"nonzero\" fill-opacity=\"1\" /><polyline clip-path=\"url(#clip230)\" style=\"stroke:#ff0000; stroke-linecap:round; stroke-linejoin:round; stroke-width:4; stroke-opacity:1; fill:none\" stroke-dasharray=\"16, 10\" points=\"314.197,196.789 456.422,196.789 \"/>\n",
       "<path clip-path=\"url(#clip230)\" d=\"M495.959 184.115 L489.617 201.314 L502.325 201.314 L495.959 184.115 M493.32 179.509 L498.621 179.509 L511.793 214.069 L506.931 214.069 L503.783 205.203 L488.205 205.203 L485.057 214.069 L480.126 214.069 L493.32 179.509 Z\" fill=\"#000000\" fill-rule=\"nonzero\" fill-opacity=\"1\" /><path clip-path=\"url(#clip230)\" d=\"M538.204 198.421 L538.204 214.069 L533.945 214.069 L533.945 198.559 Q533.945 194.879 532.51 193.05 Q531.075 191.222 528.205 191.222 Q524.755 191.222 522.765 193.421 Q520.774 195.62 520.774 199.416 L520.774 214.069 L516.492 214.069 L516.492 188.143 L520.774 188.143 L520.774 192.171 Q522.302 189.833 524.362 188.675 Q526.445 187.518 529.154 187.518 Q533.621 187.518 535.913 190.296 Q538.204 193.05 538.204 198.421 Z\" fill=\"#000000\" fill-rule=\"nonzero\" fill-opacity=\"1\" /><path clip-path=\"url(#clip230)\" d=\"M558.482 201.036 Q553.32 201.036 551.329 202.217 Q549.339 203.397 549.339 206.245 Q549.339 208.513 550.82 209.856 Q552.325 211.175 554.894 211.175 Q558.436 211.175 560.565 208.675 Q562.718 206.152 562.718 201.985 L562.718 201.036 L558.482 201.036 M566.977 199.277 L566.977 214.069 L562.718 214.069 L562.718 210.133 Q561.26 212.495 559.084 213.629 Q556.908 214.74 553.76 214.74 Q549.778 214.74 547.417 212.518 Q545.079 210.272 545.079 206.522 Q545.079 202.147 547.996 199.925 Q550.936 197.703 556.746 197.703 L562.718 197.703 L562.718 197.286 Q562.718 194.347 560.774 192.749 Q558.853 191.129 555.357 191.129 Q553.135 191.129 551.028 191.661 Q548.922 192.194 546.978 193.259 L546.978 189.323 Q549.316 188.421 551.515 187.981 Q553.714 187.518 555.797 187.518 Q561.422 187.518 564.2 190.434 Q566.977 193.351 566.977 199.277 Z\" fill=\"#000000\" fill-rule=\"nonzero\" fill-opacity=\"1\" /><path clip-path=\"url(#clip230)\" d=\"M575.751 178.05 L580.01 178.05 L580.01 214.069 L575.751 214.069 L575.751 178.05 Z\" fill=\"#000000\" fill-rule=\"nonzero\" fill-opacity=\"1\" /><path clip-path=\"url(#clip230)\" d=\"M599.709 216.476 Q597.903 221.106 596.19 222.518 Q594.477 223.93 591.607 223.93 L588.204 223.93 L588.204 220.365 L590.704 220.365 Q592.463 220.365 593.436 219.532 Q594.408 218.698 595.588 215.596 L596.352 213.652 L585.866 188.143 L590.38 188.143 L598.482 208.421 L606.584 188.143 L611.098 188.143 L599.709 216.476 Z\" fill=\"#000000\" fill-rule=\"nonzero\" fill-opacity=\"1\" /><path clip-path=\"url(#clip230)\" d=\"M621.19 180.782 L621.19 188.143 L629.963 188.143 L629.963 191.453 L621.19 191.453 L621.19 205.527 Q621.19 208.698 622.047 209.601 Q622.926 210.504 625.588 210.504 L629.963 210.504 L629.963 214.069 L625.588 214.069 Q620.658 214.069 618.783 212.24 Q616.908 210.388 616.908 205.527 L616.908 191.453 L613.783 191.453 L613.783 188.143 L616.908 188.143 L616.908 180.782 L621.19 180.782 Z\" fill=\"#000000\" fill-rule=\"nonzero\" fill-opacity=\"1\" /><path clip-path=\"url(#clip230)\" d=\"M635.565 188.143 L639.824 188.143 L639.824 214.069 L635.565 214.069 L635.565 188.143 M635.565 178.05 L639.824 178.05 L639.824 183.444 L635.565 183.444 L635.565 178.05 Z\" fill=\"#000000\" fill-rule=\"nonzero\" fill-opacity=\"1\" /><path clip-path=\"url(#clip230)\" d=\"M667.394 189.138 L667.394 193.12 Q665.588 192.124 663.759 191.638 Q661.954 191.129 660.102 191.129 Q655.958 191.129 653.667 193.768 Q651.375 196.384 651.375 201.129 Q651.375 205.874 653.667 208.513 Q655.958 211.129 660.102 211.129 Q661.954 211.129 663.759 210.643 Q665.588 210.133 667.394 209.138 L667.394 213.073 Q665.611 213.907 663.69 214.323 Q661.792 214.74 659.639 214.74 Q653.783 214.74 650.334 211.059 Q646.884 207.379 646.884 201.129 Q646.884 194.786 650.357 191.152 Q653.852 187.518 659.917 187.518 Q661.884 187.518 663.759 187.935 Q665.634 188.328 667.394 189.138 Z\" fill=\"#000000\" fill-rule=\"nonzero\" fill-opacity=\"1\" /><path clip-path=\"url(#clip230)\" d=\"M686.583 201.036 Q681.421 201.036 679.431 202.217 Q677.44 203.397 677.44 206.245 Q677.44 208.513 678.921 209.856 Q680.426 211.175 682.995 211.175 Q686.537 211.175 688.667 208.675 Q690.819 206.152 690.819 201.985 L690.819 201.036 L686.583 201.036 M695.079 199.277 L695.079 214.069 L690.819 214.069 L690.819 210.133 Q689.361 212.495 687.185 213.629 Q685.009 214.74 681.861 214.74 Q677.88 214.74 675.519 212.518 Q673.181 210.272 673.181 206.522 Q673.181 202.147 676.097 199.925 Q679.037 197.703 684.847 197.703 L690.819 197.703 L690.819 197.286 Q690.819 194.347 688.875 192.749 Q686.954 191.129 683.458 191.129 Q681.236 191.129 679.13 191.661 Q677.023 192.194 675.079 193.259 L675.079 189.323 Q677.417 188.421 679.616 187.981 Q681.815 187.518 683.898 187.518 Q689.523 187.518 692.301 190.434 Q695.079 193.351 695.079 199.277 Z\" fill=\"#000000\" fill-rule=\"nonzero\" fill-opacity=\"1\" /><path clip-path=\"url(#clip230)\" d=\"M703.852 178.05 L708.111 178.05 L708.111 214.069 L703.852 214.069 L703.852 178.05 Z\" fill=\"#000000\" fill-rule=\"nonzero\" fill-opacity=\"1\" /><path clip-path=\"url(#clip230)\" d=\"M736.213 210.18 L736.213 223.93 L731.93 223.93 L731.93 188.143 L736.213 188.143 L736.213 192.078 Q737.555 189.763 739.592 188.652 Q741.652 187.518 744.5 187.518 Q749.222 187.518 752.162 191.268 Q755.125 195.018 755.125 201.129 Q755.125 207.24 752.162 210.99 Q749.222 214.74 744.5 214.74 Q741.652 214.74 739.592 213.629 Q737.555 212.495 736.213 210.18 M750.703 201.129 Q750.703 196.43 748.759 193.768 Q746.838 191.083 743.458 191.083 Q740.078 191.083 738.134 193.768 Q736.213 196.43 736.213 201.129 Q736.213 205.828 738.134 208.513 Q740.078 211.175 743.458 211.175 Q746.838 211.175 748.759 208.513 Q750.703 205.828 750.703 201.129 Z\" fill=\"#000000\" fill-rule=\"nonzero\" fill-opacity=\"1\" /><path clip-path=\"url(#clip230)\" d=\"M772.231 191.129 Q768.805 191.129 766.814 193.814 Q764.824 196.476 764.824 201.129 Q764.824 205.782 766.791 208.467 Q768.782 211.129 772.231 211.129 Q775.634 211.129 777.624 208.444 Q779.615 205.758 779.615 201.129 Q779.615 196.522 777.624 193.837 Q775.634 191.129 772.231 191.129 M772.231 187.518 Q777.787 187.518 780.958 191.129 Q784.129 194.74 784.129 201.129 Q784.129 207.495 780.958 211.129 Q777.787 214.74 772.231 214.74 Q766.652 214.74 763.481 211.129 Q760.333 207.495 760.333 201.129 Q760.333 194.74 763.481 191.129 Q766.652 187.518 772.231 187.518 Z\" fill=\"#000000\" fill-rule=\"nonzero\" fill-opacity=\"1\" /><path clip-path=\"url(#clip230)\" d=\"M791.189 178.05 L795.448 178.05 L795.448 214.069 L791.189 214.069 L791.189 178.05 Z\" fill=\"#000000\" fill-rule=\"nonzero\" fill-opacity=\"1\" /><path clip-path=\"url(#clip230)\" d=\"M804.36 188.143 L808.62 188.143 L808.62 214.069 L804.36 214.069 L804.36 188.143 M804.36 178.05 L808.62 178.05 L808.62 183.444 L804.36 183.444 L804.36 178.05 Z\" fill=\"#000000\" fill-rule=\"nonzero\" fill-opacity=\"1\" /><path clip-path=\"url(#clip230)\" d=\"M836.189 189.138 L836.189 193.12 Q834.383 192.124 832.555 191.638 Q830.749 191.129 828.897 191.129 Q824.754 191.129 822.462 193.768 Q820.171 196.384 820.171 201.129 Q820.171 205.874 822.462 208.513 Q824.754 211.129 828.897 211.129 Q830.749 211.129 832.555 210.643 Q834.383 210.133 836.189 209.138 L836.189 213.073 Q834.407 213.907 832.485 214.323 Q830.587 214.74 828.434 214.74 Q822.578 214.74 819.129 211.059 Q815.68 207.379 815.68 201.129 Q815.68 194.786 819.152 191.152 Q822.647 187.518 828.712 187.518 Q830.68 187.518 832.555 187.935 Q834.43 188.328 836.189 189.138 Z\" fill=\"#000000\" fill-rule=\"nonzero\" fill-opacity=\"1\" /><path clip-path=\"url(#clip230)\" d=\"M854.383 216.476 Q852.578 221.106 850.865 222.518 Q849.152 223.93 846.282 223.93 L842.879 223.93 L842.879 220.365 L845.379 220.365 Q847.138 220.365 848.11 219.532 Q849.082 218.698 850.263 215.596 L851.027 213.652 L840.541 188.143 L845.055 188.143 L853.156 208.421 L861.258 188.143 L865.772 188.143 L854.383 216.476 Z\" fill=\"#000000\" fill-rule=\"nonzero\" fill-opacity=\"1\" /><path clip-path=\"url(#clip230)\" d=\"M899.846 178.05 L899.846 181.592 L895.772 181.592 Q893.48 181.592 892.578 182.518 Q891.698 183.444 891.698 185.851 L891.698 188.143 L898.712 188.143 L898.712 191.453 L891.698 191.453 L891.698 214.069 L887.416 214.069 L887.416 191.453 L883.342 191.453 L883.342 188.143 L887.416 188.143 L887.416 186.337 Q887.416 182.009 889.429 180.041 Q891.443 178.05 895.818 178.05 L899.846 178.05 Z\" fill=\"#000000\" fill-rule=\"nonzero\" fill-opacity=\"1\" /><path clip-path=\"url(#clip230)\" d=\"M902.971 203.837 L902.971 188.143 L907.23 188.143 L907.23 203.675 Q907.23 207.356 908.665 209.208 Q910.101 211.036 912.971 211.036 Q916.42 211.036 918.411 208.837 Q920.425 206.638 920.425 202.842 L920.425 188.143 L924.684 188.143 L924.684 214.069 L920.425 214.069 L920.425 210.087 Q918.874 212.448 916.814 213.606 Q914.777 214.74 912.068 214.74 Q907.601 214.74 905.286 211.962 Q902.971 209.184 902.971 203.837 M913.689 187.518 L913.689 187.518 Z\" fill=\"#000000\" fill-rule=\"nonzero\" fill-opacity=\"1\" /><path clip-path=\"url(#clip230)\" d=\"M955.008 198.421 L955.008 214.069 L950.749 214.069 L950.749 198.559 Q950.749 194.879 949.313 193.05 Q947.878 191.222 945.008 191.222 Q941.559 191.222 939.568 193.421 Q937.577 195.62 937.577 199.416 L937.577 214.069 L933.295 214.069 L933.295 188.143 L937.577 188.143 L937.577 192.171 Q939.105 189.833 941.165 188.675 Q943.249 187.518 945.957 187.518 Q950.424 187.518 952.716 190.296 Q955.008 193.05 955.008 198.421 Z\" fill=\"#000000\" fill-rule=\"nonzero\" fill-opacity=\"1\" /><path clip-path=\"url(#clip230)\" d=\"M982.16 189.138 L982.16 193.12 Q980.355 192.124 978.526 191.638 Q976.721 191.129 974.869 191.129 Q970.725 191.129 968.434 193.768 Q966.142 196.384 966.142 201.129 Q966.142 205.874 968.434 208.513 Q970.725 211.129 974.869 211.129 Q976.721 211.129 978.526 210.643 Q980.355 210.133 982.16 209.138 L982.16 213.073 Q980.378 213.907 978.457 214.323 Q976.559 214.74 974.406 214.74 Q968.549 214.74 965.1 211.059 Q961.651 207.379 961.651 201.129 Q961.651 194.786 965.123 191.152 Q968.619 187.518 974.684 187.518 Q976.651 187.518 978.526 187.935 Q980.401 188.328 982.16 189.138 Z\" fill=\"#000000\" fill-rule=\"nonzero\" fill-opacity=\"1\" /><path clip-path=\"url(#clip230)\" d=\"M993.781 180.782 L993.781 188.143 L1002.55 188.143 L1002.55 191.453 L993.781 191.453 L993.781 205.527 Q993.781 208.698 994.637 209.601 Q995.517 210.504 998.179 210.504 L1002.55 210.504 L1002.55 214.069 L998.179 214.069 Q993.248 214.069 991.373 212.24 Q989.498 210.388 989.498 205.527 L989.498 191.453 L986.373 191.453 L986.373 188.143 L989.498 188.143 L989.498 180.782 L993.781 180.782 Z\" fill=\"#000000\" fill-rule=\"nonzero\" fill-opacity=\"1\" /><path clip-path=\"url(#clip230)\" d=\"M1008.16 188.143 L1012.41 188.143 L1012.41 214.069 L1008.16 214.069 L1008.16 188.143 M1008.16 178.05 L1012.41 178.05 L1012.41 183.444 L1008.16 183.444 L1008.16 178.05 Z\" fill=\"#000000\" fill-rule=\"nonzero\" fill-opacity=\"1\" /><path clip-path=\"url(#clip230)\" d=\"M1031.37 191.129 Q1027.95 191.129 1025.96 193.814 Q1023.97 196.476 1023.97 201.129 Q1023.97 205.782 1025.93 208.467 Q1027.92 211.129 1031.37 211.129 Q1034.78 211.129 1036.77 208.444 Q1038.76 205.758 1038.76 201.129 Q1038.76 196.522 1036.77 193.837 Q1034.78 191.129 1031.37 191.129 M1031.37 187.518 Q1036.93 187.518 1040.1 191.129 Q1043.27 194.74 1043.27 201.129 Q1043.27 207.495 1040.1 211.129 Q1036.93 214.74 1031.37 214.74 Q1025.79 214.74 1022.62 211.129 Q1019.48 207.495 1019.48 201.129 Q1019.48 194.74 1022.62 191.129 Q1025.79 187.518 1031.37 187.518 Z\" fill=\"#000000\" fill-rule=\"nonzero\" fill-opacity=\"1\" /><path clip-path=\"url(#clip230)\" d=\"M1071.88 198.421 L1071.88 214.069 L1067.62 214.069 L1067.62 198.559 Q1067.62 194.879 1066.19 193.05 Q1064.75 191.222 1061.88 191.222 Q1058.43 191.222 1056.44 193.421 Q1054.45 195.62 1054.45 199.416 L1054.45 214.069 L1050.17 214.069 L1050.17 188.143 L1054.45 188.143 L1054.45 192.171 Q1055.98 189.833 1058.04 188.675 Q1060.12 187.518 1062.83 187.518 Q1067.3 187.518 1069.59 190.296 Q1071.88 193.05 1071.88 198.421 Z\" fill=\"#000000\" fill-rule=\"nonzero\" fill-opacity=\"1\" /></svg>\n"
      ],
      "text/html": [
       "<img src=\"data:image/png;base64,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\" />"
      ]
     },
     "metadata": {},
     "output_type": "display_data"
    }
   ],
   "source": [
    "plot(p.kgrid, polV, label=\"Coleman time iteration\", \n",
    "    xlabel=\"Capital\", ylabel=\"g(k)\")\n",
    "\n",
    "pol_analytical(k) = p.α*p.β*k^p.α\n",
    "\n",
    "plot!(p.kgrid, pol_analytical.(p.kgrid), label=\"Analytical policy function\", \n",
    "    linestyle=:dash, color=:red)"
   ]
  },
  {
   "cell_type": "code",
   "execution_count": 25,
   "id": "327bda13",
   "metadata": {},
   "outputs": [
    {
     "data": {
      "text/plain": [
       "-7.0007036990220834"
      ]
     },
     "metadata": {},
     "output_type": "display_data"
    }
   ],
   "source": [
    "polF = CubicSplineInterpolation(p.kgrid, polV)\n",
    "\n",
    "function compute_euler_residual(k::Float64)\n",
    "    k′ = polF(k)\n",
    "    c = p.f(k) - k′\n",
    "    k′′ = polF(k′)\n",
    "    c′ = p.f(k′) - k′′\n",
    "    RHS = p.β * p.f_k(k′) * p.u_c(c′)\n",
    "    return log10(abs(1 - (p.u_c(RHS)/c)))\n",
    "end\n",
    "\n",
    "kfineV = range(p.kmin, p.kmax, length=5_001)\n",
    "errorsV = compute_euler_residual.(kfineV)\n",
    "\n",
    "using Statistics\n",
    "\n",
    "mean(errorsV)"
   ]
  },
  {
   "cell_type": "code",
   "execution_count": 27,
   "id": "dda65aeb",
   "metadata": {},
   "outputs": [
    {
     "data": {
      "text/plain": [
       "1.0016216403171042e7"
      ]
     },
     "metadata": {},
     "output_type": "display_data"
    }
   ],
   "source": [
    "10^(-mean(errorsV))"
   ]
  },
  {
   "cell_type": "markdown",
   "id": "b9c46bee",
   "metadata": {},
   "source": [
    "PFI is not only significantly faster than VFI, it has also resulted in much more accurate policy functions too! With the policy function from PFI, the agent is now making a $\\$1$ mistake for over every $\\$10$ million! \n",
    "\n",
    "When speed becomes critical, you should always find and exploit as many model-specific mathematical short-cuts as you can. By iterating on the Euler equation, which uses much more information about the problem than the Bellman equation, we are rewarded with BOTH a speed-up by almost an entire order of magnitude and an increase in accuracy!"
   ]
  }
 ],
 "metadata": {
  "kernelspec": {
   "display_name": "Julia 1.12.1",
   "language": "julia",
   "name": "julia-1.12"
  },
  "language_info": {
   "file_extension": ".jl",
   "mimetype": "application/julia",
   "name": "julia",
   "version": "1.12.1"
  }
 },
 "nbformat": 4,
 "nbformat_minor": 5
}
