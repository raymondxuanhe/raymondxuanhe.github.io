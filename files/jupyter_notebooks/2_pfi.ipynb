{
 "cells": [
  {
   "cell_type": "markdown",
   "id": "48ac3842-ee59-497e-a7a9-23460332023e",
   "metadata": {},
   "source": [
    "# Policy function iteration (PFI)\n",
    "\n",
    "In the previous notebook, I covered value function iteration, probably the most popular algorithm for finding the global solution to problems in macroeconomics and finance. Its popularity is due to two important factors:\n",
    "1. **Robustness/stability** - VFI is is the most robust algorithm for finding global solutions. As long as Blackwell's sufficiency conditions are satisfied, then the Bellman operator is a contraction mapping, so in principle, any initial guess of the value function will eventually converge to the true and unique value function if you apply the Bellman operator enough times. Even if your model is such that Blackwell's sufficiency conditions are not met and convergence is not guaranteed, iterating on the Bellman operator is still usually the stablest procedure, since it requires the least amount of information on the problem (I will expand on this later).\n",
    "2. **Simplicity** - of all the algorithms, VFI has the lowest programming overhead. I.e. the time it takes to translate your mathematical problem into the computer is the lowest. Moreover, VFI is also the only algorithm which can work with pure discretization and no interpolation whatsoever. \n",
    "\n",
    "Unfortunately, VFI has a major drawback: it is incredibly slow. This may seem strange since VFI solved the problem in about 0.6 seconds (actually, more accurate benchmarking shows it was about 0.424 seconds). However, it is important to compare **relative** time instead of **absolute** time when benchmarking, especially as the problem you're solving grows.\n",
    "\n",
    "Iterating on the Bellman operator usually means you get the approximate *shape* of the true value function fairly quickly, but getting the value function correct in the *levels* can be require many (hundreds) of iterations, especially if your discount factor is close to 1. Moreover, each iteration is relatively slow - since optimizing a function is usually a very computationally costly step and can require many function evaluations within each step.\n",
    "\n",
    "Fortunately, there are two other ways of solving recursive problems and they are both significantly faster than VFI. They are Coleman time-iteration, and the endogenous grid method, and they both involve iterating the policy function on the Euler equation instead of the value function on the Bellman equation.\n",
    "\n",
    "# 0. Introduction\n",
    "At the end of the notebook on VFI, I showed how the Euler equation can be used to assess a numerical policy function's accuracy. Fortunately, it turns out that the Euler equation can also be used to **find** the policy function itself! The main conceptual difference between PFI and VFI is that while the latter involves iterating guesses of the value function on the Bellman equation, PFI requires iterating guesses of the policy function on the Euler equation.\n",
    "\n",
    "The iterative procedure is the following:\n",
    "1. Guess a policy function for next period's capital: $k^\\prime = g_0(k)$\n",
    "2. On your grid of $k$'s, construct the Euler equation:\n",
    "$$\n",
    "u_c(f(k_i) - k^\\prime_i) = \\beta f_k(k^\\prime_i)u_c(f(k^\\prime_i) - g_0(k^\\prime_i))\n",
    "$$\n",
    "3. For each $k_i$, use a non-linear root-finder to find the $k^\\prime_i$ that satisfies the Euler equation\n",
    "4. There's now a new mapping between $k$ and $k^\\prime$! Interpolate to create $g_1(k)$.\n",
    "5. Compute the distance between $g_1(k)$ and $g_0(k)$. If the norm is less than your tolerance, stop. If not, update your guess of the policy function with $g_1(k)$ and repeat from Step 2 until convergence.\n",
    "\n",
    "# 1. Initialization\n",
    "Fortunately, the initialization step is almost identical to that of VFI. The only differences are that firstly, instead of optimization, a package for numerical root-finding is used, and secondly, we need to define two additional functions to facilitate constructing the Euler equation."
   ]
  },
  {
   "cell_type": "code",
   "execution_count": null,
   "id": "5373771b",
   "metadata": {},
   "outputs": [],
   "source": [
    "using Interpolations, LinearAlgebra, Roots, Plots\n",
    "\n",
    "const β = 0.96\n",
    "const α = 0.4\n",
    "\n",
    "const kmin = 1e-3;\n",
    "const kmax = 100.0;\n",
    "const nk = 1_001;\n",
    "const kgrid = range(kmin, kmax, length=nk)\n",
    "\n",
    "f(k) = k^α\n",
    "u(c) = c ≥ 0.0 ? log(c) : -1e10\n",
    "u_c(c) = c ≥ 0.0 ? 1/c : 0.0\n",
    "f_k(k) = α * k^(α - 1)"
   ]
  },
  {
   "cell_type": "markdown",
   "id": "8cf7732b",
   "metadata": {},
   "source": [
    "# 2. Coleman operator\n",
    "\n"
   ]
  },
  {
   "cell_type": "code",
   "execution_count": null,
   "id": "1de5b2de",
   "metadata": {},
   "outputs": [],
   "source": [
    "function coleman_operator(polguess_V::Vector{Float64})\n",
    "    polguess_F = CubicSplineInterpolation(kgrid, polguess_V)\n",
    "    Kp_V = zeros(nk)\n",
    "    for i in eachindex(kgrid)\n",
    "        k = kgrid[i]\n",
    "        function euler_eq(k′)\n",
    "            LHS = u_c(f(k) - k′)\n",
    "            c′ = f(k′) - polguess_F(k′)\n",
    "            RHS = β*f_k(k′)*u_c(c′)\n",
    "            return LHS - RHS\n",
    "        end\n",
    "        Kp_V[i] = find_zero(euler_eq, (kmin, f(k)))\n",
    "    end\n",
    "    return Kp_V\n",
    "end"
   ]
  },
  {
   "cell_type": "code",
   "execution_count": null,
   "id": "4ead0de1",
   "metadata": {},
   "outputs": [],
   "source": [
    "function solve_model_coleman()\n",
    "    polguess_V = zeros(nk)\n",
    "    iiter = 0\n",
    "    diff = 1\n",
    "    max_iter = 600\n",
    "    tol = 1e-8\n",
    "\n",
    "    @time while iiter < max_iter \n",
    "        iiter += 1\n",
    "        polnew_V = coleman_operator(polguess_V)\n",
    "\n",
    "        diff = norm(polnew_V - polguess_V, Inf)\n",
    "\n",
    "        println(\"Iteration $iiter, Error: $diff\")\n",
    "\n",
    "        polguess_V = copy(polnew_V)\n",
    "\n",
    "        if diff < tol\n",
    "            println(\"Converged after $iiter iterations\")\n",
    "            break\n",
    "        end\n",
    "    end\n",
    "    return polguess_V\n",
    "end\n",
    "\n",
    "pol_V = solve_model_coleman();"
   ]
  },
  {
   "cell_type": "markdown",
   "id": "374c9dab",
   "metadata": {},
   "source": [
    "Incredibly, PFI managed to find the policy function in just 20 iterations as opposed to 455, resulting in the time-to-compute dropping from about 424 miliseconds to just 76!"
   ]
  },
  {
   "cell_type": "markdown",
   "id": "0049ca63",
   "metadata": {},
   "source": [
    "Let's evaluate the numerical accuracy of PFI by calculating the Euler residuals again."
   ]
  },
  {
   "cell_type": "code",
   "execution_count": null,
   "id": "ddfe4cb5",
   "metadata": {},
   "outputs": [],
   "source": [
    "plot(kgrid, pol_V, label=\"Coleman Time Iteration\", \n",
    "    xlabel=\"Capital\", ylabel=\"Policy Function\")\n",
    "\n",
    "pol_analytical(k) = α*β*k^α\n",
    "\n",
    "plot!(kgrid, pol_analytical.(kgrid), label=\"Analytical Policy Function\", \n",
    "    linestyle=:dash, color=:red)"
   ]
  },
  {
   "cell_type": "code",
   "execution_count": null,
   "id": "327bda13",
   "metadata": {},
   "outputs": [],
   "source": [
    "pol_F = CubicSplineInterpolation(kgrid, pol_V)\n",
    "\n",
    "function compute_euler_residual(k::Float64)\n",
    "    k′ = pol_F(k)\n",
    "    c = f(k) - k′\n",
    "    LHS = u_c(c)\n",
    "    k′′ = pol_F(k′)\n",
    "    c′ = f(k′) - k′′\n",
    "    RHS = β * f_k(k′) * u_c(c′)\n",
    "    return log10(abs(LHS/RHS - 1))\n",
    "end\n",
    "\n",
    "kfine_V = range(kmin, kmax, length=5_001)\n",
    "errors_V = compute_euler_residual.(kfine_V)\n",
    "\n",
    "using Statistics\n",
    "\n",
    "mean(errors_V)"
   ]
  },
  {
   "cell_type": "markdown",
   "id": "b9c46bee",
   "metadata": {},
   "source": [
    "Thus, we can see that PFI is not only significantly faster than VFI, it results in much more accurate policy functions too!"
   ]
  }
 ],
 "metadata": {
  "kernelspec": {
   "display_name": "Julia 1.11.6",
   "language": "julia",
   "name": "julia-1.11"
  },
  "language_info": {
   "file_extension": ".jl",
   "mimetype": "application/julia",
   "name": "julia",
   "version": "1.11.6"
  }
 },
 "nbformat": 4,
 "nbformat_minor": 5
}
