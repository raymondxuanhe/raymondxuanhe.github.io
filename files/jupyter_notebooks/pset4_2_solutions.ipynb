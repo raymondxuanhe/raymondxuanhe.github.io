{
 "cells": [
  {
   "cell_type": "markdown",
   "id": "8269af34",
   "metadata": {},
   "source": [
    "# Partial solutions for ECO387C Problem Set 4 Question 2"
   ]
  },
  {
   "cell_type": "markdown",
   "id": "c9b18ca3",
   "metadata": {},
   "source": [
    "# 1. Initialization"
   ]
  },
  {
   "cell_type": "code",
   "execution_count": null,
   "id": "c30ae50f",
   "metadata": {
    "vscode": {
     "languageId": "julia"
    }
   },
   "outputs": [],
   "source": [
    "using Interpolations, LinearAlgebra, NonlinearSolve, Parameters\n",
    "\n",
    "@with_kw struct Params{F1, F2}\n",
    "    #Economic parameters\n",
    "    β::Float64  # Discount factor\n",
    "    α::Float64   # Capital share in production\n",
    "    δ::Float64   # Depreciation rate\n",
    "    γ::Float64 \n",
    "\n",
    "    #Grid\n",
    "    kmin::Float64\n",
    "    kmax::Float64\n",
    "    nk::Int64\n",
    "    nz::Int64 #Number of gridpoints for productivity (2 since it's a 2 state Markov process)\n",
    "    kgrid::AbstractVector{<:Real}\n",
    "    zL::Float64\n",
    "    zH::Float64\n",
    "    zgrid::AbstractVector{<:Real}\n",
    "    pHH::Float64 #Probability of STAYING in high state\n",
    "    pLL::Float64 #Probability of STAYING in low state\n",
    "    pHL::Float64 #Probability of TRANSITIONING from high to low state\n",
    "    pLH::Float64 #Probability of TRANSITIONING from low to high state\n",
    "    Ptrans::Matrix{Float64}\n",
    "\n",
    "    #Numerical parameters\n",
    "    tol::Float64\n",
    "    \n",
    "    #Functions\n",
    "    u::F1\n",
    "    f::F2\n",
    "end\n",
    "\n",
    "function make_params(; β = 0.96, α = 0.3, δ = 0.06, γ = 1.0, kmin = 1e-3, kmax = 100.0, nz = 2,\n",
    "                        nk = 1_001, zL = 0.95, zH = 1.05, pHH = 0.9, pLL = 0.4, tol = 1e-6)\n",
    "\n",
    "    pHL = 1.0 - pHH\n",
    "    pLH = 1.0 - pLL\n",
    "    kgrid = range(kmin, kmax, length = nk)\n",
    "    zgrid = [zL, zH]\n",
    "    Ptrans = [pLL pLH; pHL pHH]\n",
    "    u(c,n) = c ≥ 0.0 ? log(c) - (n^(1 + γ))/(1+γ) : -1e10\n",
    "    f(k,n) = k^α * n^(1 - α)\n",
    "    return Params(β = β, α = α, δ = δ, γ = γ, kmin = kmin, kmax = kmax, nk = nk, nz = nz,\n",
    "                zL = zL, zH = zH, pHH = pHH, pLL = pLL, pHL = pHL, pLH = pLH, tol = tol,\n",
    "                Ptrans = Ptrans, kgrid = kgrid, zgrid = zgrid, u = u, f = f)\n",
    "end\n",
    "\n",
    "@with_kw mutable struct Solution\n",
    "    vA::Array{Float64, 2} #value function\n",
    "    polCA::Array{Float64, 2} #policy function for consumption\n",
    "    polKA::Array{Float64,2} #policy function for capital\n",
    "    polNA::Array{Float64,2} #policy function for labor\n",
    "end\n",
    "\n",
    "p = make_params(zL = 0.85, zH = 1.15)"
   ]
  },
  {
   "cell_type": "markdown",
   "id": "09e78e22",
   "metadata": {},
   "source": [
    "# 2. Initial Guess"
   ]
  },
  {
   "cell_type": "code",
   "execution_count": null,
   "id": "6a150dd8",
   "metadata": {
    "vscode": {
     "languageId": "julia"
    }
   },
   "outputs": [],
   "source": [
    "function solve_period_T_problem(p::Params)\n",
    "    \"\"\"\n",
    "    Initializes all the desired equilibrium objects to correspond to their period T values.\n",
    "    \"\"\"\n",
    "    @unpack nk, nz, zgrid, kgrid = p\n",
    "    @unpack α, γ, δ, u = p\n",
    "    polKA = zeros(nk,nz)\n",
    "    polCA = zeros(nk,nz)\n",
    "    polNA = ones(nk,nz)\n",
    "    vA = zeros(nk,nz)\n",
    "\n",
    "    for iz in 1:nz\n",
    "        z = zgrid[iz]\n",
    "        for ik in 1:nk\n",
    "            k = kgrid[ik]\n",
    "\n",
    "            function objective(du, u, p)\n",
    "                k = p[1]\n",
    "                z = p[2]\n",
    "                n = u[1]\n",
    "                numerator = (1 - α) * z * k^α\n",
    "                denominator = z * (k^α) * n^(1-α) + (1 - δ)*k\n",
    "                du[1] = n^(γ + α) - (numerator / denominator)\n",
    "            end\n",
    "\n",
    "            prob = NonlinearProblem(objective, [0.5], [k,z])\n",
    "            result = solve(prob)\n",
    "            if result.retcode != :Success\n",
    "                println(\"Solver did not converge at state = ($k, $z)\")\n",
    "            end\n",
    "            n = result.u[1]\n",
    "            polNA[ik, iz] = n\n",
    "            polCA[ik, iz] = z * k^α * n^(1 - α) + (1 - δ)*k\n",
    "            vA[ik, iz] = u(polCA[ik, iz], polNA[ik, iz])\n",
    "        end\n",
    "    end\n",
    "    \n",
    "    return Solution(vA = vA, polCA = polCA, \n",
    "                    polKA = polKA, polNA = polNA)\n",
    "end"
   ]
  },
  {
   "cell_type": "markdown",
   "id": "1dbbffd0",
   "metadata": {},
   "source": [
    "# 3. Updating step"
   ]
  },
  {
   "cell_type": "code",
   "execution_count": null,
   "id": "66064201",
   "metadata": {
    "vscode": {
     "languageId": "julia"
    }
   },
   "outputs": [],
   "source": [
    "function time_iteration_step(polCF, polNF, p::Params)\n",
    "    \"\"\"\n",
    "    Solves for all policy functions and value function by iterating the consumption policy function on the Euler equation.\n",
    "    \"\"\"\n",
    "    @unpack kgrid, zgrid, nk, nz, Ptrans = p\n",
    "    @unpack β, α, δ, γ, u = p\n",
    "\n",
    "    polCA_new = zeros(nk,nz)\n",
    "    polKA_new = zeros(nk,nz)\n",
    "    polNA_new = zeros(nk,nz)\n",
    "    vA_new = zeros(nk,nz)\n",
    "\n",
    "    for iz in 1:nz\n",
    "        z = zgrid[iz]\n",
    "        for ik in 1:nk\n",
    "            k = kgrid[ik]\n",
    "            function objective(du, u, p)\n",
    "                k = p[1]\n",
    "                z = p[2]\n",
    "                c = u[1]\n",
    "\n",
    "                n = ((1 - α) * z * k^α/c)^(1/ (γ + α))\n",
    "                k′ = z * k^α * n^(1 - α) + (1 - δ) * k - c\n",
    "                \n",
    "                LHS = 1/c\n",
    "\n",
    "                RHS = 0.0\n",
    "                prob = Ptrans[iz, :]\n",
    "                \n",
    "                for j in 1:nz\n",
    "                    z′ = zgrid[j]\n",
    "                    n′ = polNF(k′, z′)\n",
    "                    c′ = polCF(k′, z′)\n",
    "                    RHS += prob[j] * (z′ * α * (k′/n′)^(α - 1) + 1 - δ)/c′\n",
    "                end\n",
    "                RHS *= β \n",
    "                du[1] = LHS - RHS\n",
    "            end\n",
    "\n",
    "            prob = NonlinearProblem(objective, [0.05 * k], [k, z])\n",
    "            result = solve(prob)\n",
    "\n",
    "            if result.retcode != :Success\n",
    "                println(\"Solver did not converge at state = ($k, $z)\")\n",
    "            end\n",
    "            c = result.u[1]\n",
    "            polCA_new[ik, iz] = c\n",
    "            n = ((1 - α) * z * k^α/c)^(1/ (γ + α))\n",
    "            polKA_new[ik, iz] = z * k^α * n^(1 - α) + (1 - δ) * k - c\n",
    "            polNA_new[ik, iz] = n\n",
    "            vA_new[ik, iz] = u(c, n)\n",
    "        end\n",
    "    end\n",
    "    return polCA_new, polKA_new, polNA_new, vA_new\n",
    "end"
   ]
  },
  {
   "cell_type": "markdown",
   "id": "3f62ba87",
   "metadata": {},
   "source": [
    "# 4. Main Loop"
   ]
  },
  {
   "cell_type": "code",
   "execution_count": null,
   "id": "4a90d600",
   "metadata": {
    "vscode": {
     "languageId": "julia"
    }
   },
   "outputs": [],
   "source": [
    "function solve_model!(sol::Solution, p::Params, max_iter::Int64)\n",
    "    @unpack kgrid, zgrid, tol = p\n",
    "\n",
    "    iiter = 0\n",
    "\n",
    "    while iiter < max_iter\n",
    "        iiter += 1\n",
    "        \n",
    "        polNF = LinearInterpolation((kgrid, zgrid), sol.polNA)\n",
    "        polCF = LinearInterpolation((kgrid, zgrid), sol.polCA)\n",
    "\n",
    "        polCA_new, polKA_new, polNA_new, vA_new = time_iteration_step(polCF, polNF, p)\n",
    "\n",
    "        diffV = norm(sol.vA - vA_new, Inf)\n",
    "        diffC = norm(sol.polCA - polCA_new, Inf)\n",
    "        diffK = norm(sol.polKA - polKA_new, Inf)\n",
    "        diffN = norm(sol.polNA - polNA_new, Inf)\n",
    "\n",
    "        println(\"Iteration $iiter: diffV = $diffV, diffC = $diffC, diffK = $diffK, diffN = $diffN\")\n",
    "\n",
    "        if diffV < tol\n",
    "            println(\"Converged after $iiter iterations.\")\n",
    "            break\n",
    "        end\n",
    "\n",
    "        sol.polCA .= polCA_new\n",
    "        sol.polKA .= polKA_new\n",
    "        sol.polNA .= polNA_new\n",
    "        sol.vA .= vA_new\n",
    "    end\n",
    "    return sol\n",
    "end\n",
    "\n",
    "solve_model!(sol, p, 1000)"
   ]
  },
  {
   "cell_type": "markdown",
   "id": "ba21858b",
   "metadata": {},
   "source": [
    "# 5. Solutions"
   ]
  },
  {
   "cell_type": "code",
   "execution_count": null,
   "id": "fb6b8efe",
   "metadata": {
    "vscode": {
     "languageId": "julia"
    }
   },
   "outputs": [],
   "source": [
    "using Plots\n",
    "\n",
    "@unpack kgrid, zgrid = p\n",
    "\n",
    "polCF_low = LinearInterpolation(kgrid, sol.polCA[:, 1])\n",
    "polCF_high = LinearInterpolation(kgrid, sol.polCA[:, 2])\n",
    "polNF_low = LinearInterpolation(kgrid, sol.polNA[:, 1])\n",
    "polNF_high = LinearInterpolation(kgrid, sol.polNA[:, 2])\n",
    "polKF_low = LinearInterpolation(kgrid, sol.polKA[:, 1])\n",
    "polKF_high = LinearInterpolation(kgrid, sol.polKA[:, 2])\n",
    "\n",
    "default(fontfamily = \"Computer Modern\")\n",
    "\n",
    "plot(kgrid, polCF_low.(kgrid), title = \"Policy function for consumption\", xlabel = \"Capital - k\", label = \"Low\")\n",
    "plot!(kgrid, polCF_high.(kgrid), label = \"High\")\n",
    "\n",
    "plot(kgrid, polNF_low.(kgrid), title = \"Policy function for labor\", xlabel = \"Capital - k\", label = \"Low\")\n",
    "plot!(kgrid, polNF_high.(kgrid), label = \"High\")\n",
    "\n",
    "plot(kgrid, polKF_low.(kgrid), title = \"Policy function for k′\", xlabel = \"Capital - k\", label = \"Low\")\n",
    "plot!(kgrid, polKF_high.(kgrid), label = \"High\")"
   ]
  }
 ],
 "metadata": {
  "language_info": {
   "name": "python"
  }
 },
 "nbformat": 4,
 "nbformat_minor": 5
}
