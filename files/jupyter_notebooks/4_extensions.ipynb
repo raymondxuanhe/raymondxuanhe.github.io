{
 "cells": [
  {
   "cell_type": "markdown",
   "id": "5746fbd4",
   "metadata": {},
   "source": [
    "# Extensions\n",
    "\n",
    "We have now covered three different ways to find the global solution to the deterministic neoclassical growth model, which featured one state variable ($k$) and one control variable ($c$ or $k^\\prime$). It is now time to how how these methods can be adapted to be applied to much harder problems that feature multiple control variables and state variables.\n",
    "\n",
    "In order to improve the exposition, I will assume full depreciation again since breaking that assumption will not change the overall message while only making the algebra more complicated.\n",
    "\n",
    "# 1. Multiple control variables\n",
    "Previously, we assumed that labor was supplied inelastically. To learn how to solve models with multiple control variables, we will now break this assumption, meaning the planner now faces a two-dimensional maximization problem with respect to labor $l$ and $k^\\prime$. Recursively, the planner's problem can be summarized by the following Bellman equation:\n",
    "$$\n",
    "v(k) = \\max_{\\left\\{l, k^\\prime \\right\\}} \\left\\{u(c,l)  + \\beta v(k^\\prime)\\right\\}\n",
    "$$\n",
    "subject to:\n",
    "$$\n",
    "c + k^\\prime = f(k,l) = k^\\alpha l^{1-\\alpha}\n",
    "$$\n",
    "\n",
    "Firstly, note my suggestion earlier to always exploit as much of your problem's mathematical structure as you can. Note that if we assume the following functional form for the utility function:\n",
    "$$\n",
    "u(c,l) = \\log(c) + \\frac{l^{1+\\psi}}{1+\\psi}\n",
    "$$\n",
    "then after a bit of work, the intra-temporal optimality condition for labor becomes:\n",
    "$$\n",
    "cl^{\\psi} = (1-\\alpha)\\left(\\frac{k}{l} \\right)\n",
    "$$\n",
    "which after a bit of rearranging, becomes:\n",
    "$$\n",
    "l = \\left(\\frac{(1-\\alpha)k^\\alpha}{c} \\right)^{\\frac{1}{\\psi + \\alpha}}\n",
    "$$\n",
    "Notice that this is **only** a function of the observed state variable $k$ and $c$, which we are solving for anyway. Once we know what optimal $c$ is, we get optimal $l$ for free. In other words, this functional form allows us to reduce to one control variable again, which would drastically simply the root-finding/optimization step.\n",
    "\n",
    "However, let's pretend that we do not have access to such short-cuts and absolutely must solve with respect to both control variables numerically.\n",
    "$$\n",
    "u(c,l) = \\frac{c^{1-\\sigma}}{1-\\sigma}\n",
    "$$\n",
    "\n",
    "## 1.1 VFI\n",
    "\n",
    "Solving this model with VFI is probably the most straightforward since the only modification that needs to be made "
   ]
  },
  {
   "cell_type": "code",
   "execution_count": null,
   "id": "81061506",
   "metadata": {},
   "outputs": [],
   "source": [
    "using Interpolations, LinearAlgebra, Optim\n",
    "using Parameters\n",
    "using Plots, Statistics"
   ]
  },
  {
   "cell_type": "markdown",
   "id": "24e78d8d",
   "metadata": {},
   "source": [
    "# 2. Multiple state variables - productivity"
   ]
  }
 ],
 "metadata": {
  "kernelspec": {
   "display_name": "Julia 1.11.6",
   "language": "julia",
   "name": "julia-1.11"
  },
  "language_info": {
   "file_extension": ".jl",
   "mimetype": "application/julia",
   "name": "julia",
   "version": "1.11.6"
  }
 },
 "nbformat": 4,
 "nbformat_minor": 5
}
